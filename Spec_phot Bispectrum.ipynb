{
 "cells": [
  {
   "cell_type": "code",
   "execution_count": 1,
   "metadata": {
    "collapsed": true
   },
   "outputs": [],
   "source": [
    "%matplotlib inline\n",
    "import sys, platform, os\n",
    "from matplotlib import pyplot as plt\n",
    "import numpy as np\n",
    "from scipy.interpolate import interp1d\n",
    "sys.path.insert(0,os.path.realpath(os.path.join(os.getcwd(),'..')))\n",
    "import camb\n",
    "from camb import model, initialpower\n",
    "from scipy import integrate\n",
    "from numpy import loadtxt\n",
    "import copy\n",
    "import math\n",
    "import pandas as pd\n",
    "\n",
    "plt.rcParams['figure.figsize'] = (8, 6)\n",
    "plt.rcParams.update({'font.size': 11})"
   ]
  },
  {
   "cell_type": "markdown",
   "metadata": {},
   "source": [
    "#### Load redshift bins and galaxy density n(z) for spectroscopic and photometric samples\n",
    "\n",
    "https://arxiv.org/pdf/1308.4164.pdf"
   ]
  },
  {
   "cell_type": "code",
   "execution_count": 2,
   "metadata": {
    "collapsed": true
   },
   "outputs": [],
   "source": [
    "f=open('n_sp.txt',\"r\")\n",
    "lines=f.readlines()\n",
    "z=[]; n_spec=[]; n_phot=[]\n",
    "for x in lines:\n",
    "    z.append(float(x.split(None)[0]))\n",
    "    n_spec.append(float(x.split(None)[1]))\n",
    "    n_phot.append(float(x.split(None)[2]))\n",
    "\n",
    "f.close()\n",
    "\n",
    "z=np.array(z)\n",
    "n_spec=np.array(n_spec)\n",
    "n_phot=np.array(n_phot)"
   ]
  },
  {
   "cell_type": "code",
   "execution_count": 3,
   "metadata": {
    "scrolled": false
   },
   "outputs": [
    {
     "data": {
      "image/png": "[encoded data removed]",
      "text/plain": [
       "<matplotlib.figure.Figure at 0x1169aaed0>"
      ]
     },
     "metadata": {},
     "output_type": "display_data"
    }
   ],
   "source": [
    "plt.plot(z, n_spec,'o', label='Spectroscopic')\n",
    "plt.plot(z, n_phot,'o', label='Photometric')\n",
    "plt.xlabel('Redshift (z)')\n",
    "plt.ylabel('Galaxy number density (h/Mpc)$^3$')\n",
    "plt.legend(loc='best')\n",
    "plt.yscale('log')\n",
    "plt.ylim(10**(-5), 10**(-1))\n",
    "plt.show()"
   ]
  },
  {
   "cell_type": "markdown",
   "metadata": {},
   "source": [
    "### Set fiducial cosmology"
   ]
  },
  {
   "cell_type": "code",
   "execution_count": 4,
   "metadata": {},
   "outputs": [
    {
     "name": "stdout",
     "output_type": "stream",
     "text": [
      "Fiducial Parameters: {'Omc': [0.268], 'Omb': [0.048], 'h': [0.675], 'As': [2e-09], 'w': [-1.0], 'ns': [0.965]}\n"
     ]
    }
   ],
   "source": [
    "fid_params={'h':[0.675], 'Omb':[0.048], 'Omc':[0.268], 'ns':[0.965], 'As':[2e-09], 'w':[-1.0]}\n",
    "print 'Fiducial Parameters:', fid_params\n",
    "\n",
    "#List of fiducial parameters:\n",
    "params_f=[p[0] for p in fid_params.itervalues()]\n",
    "\n",
    "n_pts=200\n",
    "f_sky=0.048"
   ]
  },
  {
   "cell_type": "markdown",
   "metadata": {},
   "source": [
    "### Specify parameters to vary and step size"
   ]
  },
  {
   "cell_type": "code",
   "execution_count": 5,
   "metadata": {},
   "outputs": [
    {
     "name": "stdout",
     "output_type": "stream",
     "text": [
      "Parameters to vary and step size: {'Omc': [0.003], 'Omb': [0.002], 'As': [5e-11], 'ns': [0.01], 'w': [0.03]}\n"
     ]
    }
   ],
   "source": [
    "step_dict={'Omb':[0.002], 'Omc':[0.003], 'ns':[0.01], 'As':[5e-11], 'w':[0.03]}\n",
    "#step_dict={'Omc':[0.003], 'w':[0.03]}\n",
    "\n",
    "print 'Parameters to vary and step size:',step_dict"
   ]
  },
  {
   "cell_type": "code",
   "execution_count": 6,
   "metadata": {},
   "outputs": [
    {
     "name": "stdout",
     "output_type": "stream",
     "text": [
      "Cosmological parameters that will be used: [[0.265, 0.268, 0.271], [0.046, 0.048, 0.05], [0.675], [1.95e-09, 2e-09, 2.05e-09], [-1.03, -1.0, -0.97], [0.955, 0.965, 0.975]]\n"
     ]
    }
   ],
   "source": [
    "def list_params(Step_dict, Fid_params):\n",
    "    step_keys=[key for key in Step_dict.iterkeys()]\n",
    "    keys=[p for p in Fid_params.iterkeys()]\n",
    "\n",
    "    Params=copy.deepcopy(Fid_params)\n",
    "\n",
    "    for i in keys:\n",
    "        if i in step_keys:\n",
    "            Params[i].append(Fid_params[i][0]+Step_dict[i][0])\n",
    "            Params[i].append(Fid_params[i][0]-Step_dict[i][0])\n",
    "        Params[i].sort()\n",
    "    return [Params[i] for i in keys], keys, step_keys\n",
    "\n",
    "params_list, keys, step_keys=list_params(step_dict, fid_params)\n",
    "print 'Cosmological parameters that will be used:', params_list"
   ]
  },
  {
   "cell_type": "markdown",
   "metadata": {},
   "source": [
    "### Calculate matter power spectrum for various cosmologies"
   ]
  },
  {
   "cell_type": "code",
   "execution_count": 7,
   "metadata": {
    "scrolled": true
   },
   "outputs": [
    {
     "name": "stdout",
     "output_type": "stream",
     "text": [
      "Note: redshifts have been re-sorted (earliest first)\n",
      "Note: redshifts have been re-sorted (earliest first)\n",
      "Note: redshifts have been re-sorted (earliest first)\n",
      "Note: redshifts have been re-sorted (earliest first)\n",
      "Note: redshifts have been re-sorted (earliest first)\n",
      "Note: redshifts have been re-sorted (earliest first)\n"
     ]
    },
    {
     "name": "stderr",
     "output_type": "stream",
     "text": [
      "WARNING:root:Currently dark energy parameters are changed globally, not per parameter set\n"
     ]
    },
    {
     "name": "stdout",
     "output_type": "stream",
     "text": [
      "Note: redshifts have been re-sorted (earliest first)\n"
     ]
    },
    {
     "name": "stderr",
     "output_type": "stream",
     "text": [
      "WARNING:root:Currently dark energy parameters are changed globally, not per parameter set\n"
     ]
    },
    {
     "name": "stdout",
     "output_type": "stream",
     "text": [
      "Note: redshifts have been re-sorted (earliest first)\n",
      "Note: redshifts have been re-sorted (earliest first)\n",
      "Note: redshifts have been re-sorted (earliest first)\n"
     ]
    }
   ],
   "source": [
    "def Power_spectrum(param, Z_bin, K_max):\n",
    "    Omc, Omb, h, A_s, w, n_s = param\n",
    "    pars = camb.CAMBparams()\n",
    "    pars.set_cosmology(H0=100.*h, ombh2=Omb*(h**2), omch2=Omc*(h**2.), omk=0)\n",
    "    pars.set_dark_energy(w)\n",
    "    pars.InitPower.set_params(As= A_s, ns=n_s)\n",
    "    pars.set_matter_power(redshifts=Z_bin, kmax=2.0)\n",
    "\n",
    "    pars.NonLinear = model.NonLinear_none\n",
    "    results = camb.get_results(pars)\n",
    "    kh, z, pk = results.get_matter_power_spectrum(minkh=1e-3, maxkh=K_max, npoints = n_pts)\n",
    "    t = results.get_matter_transfer_data()\n",
    "    \n",
    "    qt=t.transfer_data[0, :, 0]\n",
    "    transf=[]\n",
    "    for i in range(len(Z_bin)):\n",
    "        transf_interp=interp1d(qt, t.transfer_data[6, :, i])\n",
    "        transf.append(transf_interp(kh))\n",
    "    \n",
    "    if param==params_f:\n",
    "        res_fid = camb.get_results(pars)\n",
    "        t_fid = res_fid.get_matter_transfer_data()\n",
    "\n",
    "        qt_fid=t_fid.transfer_data[0, :, 0]\n",
    "        transf_fid=[]\n",
    "        for i in range(len(Z_bin)):\n",
    "            interp_fid=interp1d(qt_fid, t_fid.transfer_data[6, :, i])\n",
    "            transf_fid.append(interp_fid(kh)) \n",
    "            \n",
    "        pars.set_matter_power(redshifts=[0.0], kmax=2.0)\n",
    "        pars.NonLinear = model.NonLinear_none\n",
    "        results2 = camb.get_results(pars)\n",
    "        s8=results2.get_sigma8()        \n",
    "        return kh, pk, res_fid, np.array(transf_fid)[::-1,:], s8\n",
    "    \n",
    "    pars.set_matter_power(redshifts=[0.0], kmax=2.0)\n",
    "    pars.NonLinear = model.NonLinear_none\n",
    "    results2 = camb.get_results(pars)\n",
    "    s8=results2.get_sigma8()\n",
    "    return kh, pk, np.array(transf)[::-1,:], s8\n",
    "\n",
    "def calculate_PS(Params_list, Params_f, n_params, print_steps, Z_bin, K_max):\n",
    "    PS=np.zeros((2*n_params,len(Z_bin), n_pts))\n",
    "    transf=np.zeros((2*n_params,len(Z_bin), n_pts))\n",
    "    Omega_m=[]; W=[]; sig8=[]\n",
    "\n",
    "    l=0; vary=[]\n",
    "    for i in range(len(Params_list)):\n",
    "        for j in range(len(Params_list[i])):\n",
    "            if len(Params_list[i])>1:\n",
    "                par=list(Params_f)\n",
    "                par[i]=Params_list[i][j]\n",
    "                if par!=Params_f:\n",
    "                    vary.append(Params_list[i][j])\n",
    "                    k, PS[l], transf[l], S8 =Power_spectrum(par, Z_bin, K_max)\n",
    "                    sig8.append(S8)\n",
    "\n",
    "                    l+=1\n",
    "                    if print_steps:\n",
    "                        print 'Parameters: (%s,%s)'%(i, j), par\n",
    "                    Omega_m.append(par[0]+par[1])\n",
    "                    W.append(par[4])\n",
    "    return k, PS, transf, vary, Omega_m, W, sig8\n",
    "\n",
    "k, PS, Transf, vary, omg_m, w, sigma8=calculate_PS(params_list, params_f, len(step_dict), False, z, 0.2)"
   ]
  },
  {
   "cell_type": "markdown",
   "metadata": {},
   "source": [
    "### Fiducial Case"
   ]
  },
  {
   "cell_type": "code",
   "execution_count": 8,
   "metadata": {},
   "outputs": [
    {
     "name": "stdout",
     "output_type": "stream",
     "text": [
      "Note: redshifts have been re-sorted (earliest first)\n",
      "H(z)= [  71.8840287    82.72594443   96.16201412  111.84406116  129.46283182\n",
      "  148.77136065  169.57947346  191.74129114  215.14363315  239.69710357\n",
      "  265.32967115  291.98214066  319.60496132  348.15595847  377.59870005\n",
      "  407.90130216  439.03554173  470.97618679  503.70048313  537.18775496]\n"
     ]
    }
   ],
   "source": [
    "k, PS_fid, res_fid, Transf_fid, s8_fid=Power_spectrum(params_f, z, 0.2)\n",
    "H_bar = np.array([res_fid.h_of_z(i) for i in z])/(0.675)\n",
    "r_z=np.array([res_fid.comoving_radial_distance(i) for i in z])*(0.675)\n",
    "c=299792.\n",
    "print 'H(z)=', H_bar*c*0.675"
   ]
  },
  {
   "cell_type": "markdown",
   "metadata": {},
   "source": [
    "## Photometric and Spectroscopic Bispectrum"
   ]
  },
  {
   "cell_type": "markdown",
   "metadata": {},
   "source": [
    "The bispectrum predicted by tree-level perturbation theory is given by\n",
    "\n",
    "\\begin{equation}\n",
    "B(k_1, k_2, k_3) = 2F_2({\\bf k}_1, {\\bf k}_2) P(k_1) P(k_2) + \\text{cyc.}\n",
    "\\end{equation}\n",
    "where,\n",
    "\n",
    "\\begin{equation}\n",
    "F_2({\\bf k}_1, {\\bf k}_2) = \\frac{5}{7} + \\frac{\\hat{{\\bf k}}_1 \\cdot \\hat{{\\bf k}}_2}{2} \\left( \\frac{k_1}{k_2} + \\frac{k_2}{k_1} \\right) + \\frac{2}{7} \\left(\\hat{{\\bf k}}_1 \\cdot \\hat{{\\bf k}}_2\\right)^2 .\n",
    "\\end{equation}\n",
    "\n",
    "The bispectrum including two objects from the spectroscopic sample and one from the photometric sample is\n",
    "\n",
    "\\begin{equation}\n",
    "B_{pss}(k_1, k_2, k_3) = \\text{e}^{- \\frac{1}{2} k^2_1 \\mu^2_1 \\sigma^2_z/ H^2} B(k_1, k_2, k_3)\n",
    "\\end{equation}"
   ]
  },
  {
   "cell_type": "code",
   "execution_count": 9,
   "metadata": {
    "collapsed": true
   },
   "outputs": [],
   "source": [
    "def F_2(a,b,c):\n",
    "    cos=-(a**2. + b**2. -(c**2.))/(2.*a*b)\n",
    "    return 5./7. + ((a*b*cos)/(2.*a*b))*((a/b) + (b/a)) + (2./7.)*(((a*b*cos)/(a*b)))**2.\n",
    "\n",
    "def exp_z(K, Mu, Sigma_z, H):\n",
    "    exp=(np.exp(-(((K)**2.)*np.outer((((Sigma_z)**2.)/(2.*(H**2.))), ((Mu)**2.)))))\n",
    "    return exp\n",
    "\n",
    "def Bispectrum(K1, K2, Mu, Sigma_z):\n",
    "    K3=np.linspace((K1-K2), K1+K2 , 200)\n",
    "    #Q_ssp=np.zeros((len(K3)))\n",
    "    B_ssp=np.zeros((len(K3), len(Mu)))\n",
    "    B_sss=np.zeros((len(K3)))\n",
    "\n",
    "    for l in range(len(K3)):\n",
    "        B_sss[l]=(2.*F_2(K1, K2, K3[l])*fid_interp(K1)*fid_interp(K2) \n",
    "                  + 2.*F_2(K2, K3[l], K1)*fid_interp(K2)*fid_interp(K3[l]) \n",
    "                  + 2.*F_2(K3[l], K1, K2)*fid_interp(K3[l])*fid_interp(K1))\n",
    "        B_ssp[l]=exp_z(K3[l], Mu, Sigma_z, 67.5/c)*(2.*F_2(K1, K2, K3[l])*fid_interp(K1)*fid_interp(K2) \n",
    "                    + 2.*F_2(K2, K3[l], K1)*fid_interp(K2)*fid_interp(K3[l]) \n",
    "                    + 2.*F_2(K3[l], K1, K2)*fid_interp(K3[l])*fid_interp(K1))\n",
    "        #Q_test[l]=B_test[l]/(fid_interp(K1)*fid_interp(K2) + fid_interp(K2)*fid_interp(K3[l]) \n",
    "        #                    + fid_interp(K1)*fid_interp(K3[l]))\n",
    "        \n",
    "    return B_ssp, B_sss"
   ]
  },
  {
   "cell_type": "markdown",
   "metadata": {},
   "source": [
    "#### Bispectrum suppression due to photometric errors"
   ]
  },
  {
   "cell_type": "code",
   "execution_count": 10,
   "metadata": {
    "collapsed": true
   },
   "outputs": [],
   "source": [
    "k0, PS_fid0, _, _, _=Power_spectrum(params_f, [0.0], 0.8)\n",
    "\n",
    "fid_interp = interp1d(k0, PS_fid0, kind='cubic')\n",
    "\n",
    "theta=np.linspace(0, np.pi, 100)\n",
    "mu=np.cos(theta)\n",
    "sig_z=np.array(0.04*(1.+z))\n",
    "\n",
    "Bssp, Bsss=Bispectrum(0.04, 0.039, mu, 0.005)\n",
    "Bssp2, _=Bispectrum(0.04, 0.039, mu, 0.05)\n",
    "\n",
    "Psp_fid = np.zeros((len(k0), len(mu)))\n",
    "Psp_fid2 = np.zeros((len(k0), len(mu)))\n",
    "for i in range(len(mu)):\n",
    "    Psp_fid[:,i]=PS_fid0*exp_z(k0, mu[i], 0.005, 67.5/c)\n",
    "    Psp_fid2[:,i]=PS_fid0*exp_z(k0, mu[i], 0.05, 67.5/c)"
   ]
  },
  {
   "cell_type": "code",
   "execution_count": 11,
   "metadata": {},
   "outputs": [
    {
     "data": {
      "image/png": "[encoded data removed]",
      "text/plain": [
       "<matplotlib.figure.Figure at 0x11a246990>"
      ]
     },
     "metadata": {},
     "output_type": "display_data"
    }
   ],
   "source": [
    "plt.rcParams['figure.figsize'] = (15, 6)\n",
    "\n",
    "def angle(a,b,c):\n",
    "    return math.acos(-(a**2. + b**2. -(c**2.))/(2.*a*b))\n",
    "\n",
    "k3=np.linspace((0.04-0.039), 0.04+0.039 , 200)\n",
    "ang=[angle(0.04,0.039,i)/np.pi for i in k3]\n",
    "\n",
    "plt.subplot(121)\n",
    "plt.loglog(k3, Bsss,'--', label=r'$B_{sss}$')\n",
    "plt.loglog(k3, Bssp[:,0], label=r'$B_{ssp}$, $\\sigma_z=0.005$')\n",
    "plt.loglog(k3, Bssp2[:,0], label=r'$B_{ssp}$, $\\sigma_z=0.05$')\n",
    "plt.xlabel(r'$k_3$ (h/Mpc)')\n",
    "plt.ylabel(r'B($k_1$, $k_2$, $k_3$)')\n",
    "plt.yscale('log')\n",
    "plt.legend(loc='best')\n",
    "plt.ylim(10**(7), 10**9)\n",
    " \n",
    "plt.subplot(122)\n",
    "plt.loglog(k0, PS_fid0[0],'--', label=r'$P(k)$')\n",
    "plt.loglog(k0, Psp_fid[:,0], label=r'$P_{sp}(k)$ , $\\sigma_z = 0.005$')\n",
    "plt.loglog(k0, Psp_fid2[:,0], label=r'$P_{sp}(k)$ , $\\sigma_z = 0.05$')\n",
    "plt.ylim(10**2, 4*10**4)\n",
    "plt.xlim(0.0008, 0.079)\n",
    "plt.legend(loc='best')\n",
    "plt.xlabel(r'$k$ (h/Mpc)')\n",
    "plt.ylabel(r'P(k)')\n",
    "plt.show()"
   ]
  },
  {
   "cell_type": "markdown",
   "metadata": {},
   "source": [
    "## Photometric and Spectroscopic Fisher matrix"
   ]
  },
  {
   "cell_type": "code",
   "execution_count": 12,
   "metadata": {
    "collapsed": true
   },
   "outputs": [],
   "source": [
    "def E(A, omg_m, omg_de, w):\n",
    "    return np.sqrt((omg_m/(A**3.) + omg_de/(A**(3.*(1.+w)))))\n",
    "\n",
    "def growth1(A, omg_m, omg_de, w):\n",
    "    a2=np.linspace(10**(-7), A, 200)\n",
    "    e=np.array([E(i, omg_m, omg_de, w) for i in a2])\n",
    "    return 2.5*omg_m*E(A, omg_m, omg_de, w)*integrate.simps((a2*e)**(-3.), a2)\n",
    "\n",
    "def M(K, T, D, Omg_m):\n",
    "    return -(3./5.)*(((K**2.)*T*D)/(Omg_m*((100./c)**2.)))\n",
    "\n",
    "f_nl=[0.8- 0.8*1., 0.8 +0.8*1.]\n",
    "\n",
    "D_z=np.zeros((len(vary), len(z)))\n",
    "D_fid=[growth1(i, 0.316 , (1.-0.316), -1.) for i in (1./(1.+z))]\n",
    "\n",
    "for i in range(len(vary)):\n",
    "    for j in range(len(z)):\n",
    "        a=1./(1.+z[j])\n",
    "        D_z[i][j]=growth1(a, omg_m[i], (1.-omg_m[i]), w[i])\n",
    "\n",
    "Transf_norm=np.zeros(Transf.shape)\n",
    "Tfid_norm=np.array([Transf_fid[i,:]/Transf_fid[i,0] for i in range(len(z))])\n",
    "\n",
    "for i in range(len(Transf)):\n",
    "    for j in range(len(Transf[i])):\n",
    "        Transf_norm[i][j]=Transf[i,j,:]/Transf[i,j,0]"
   ]
  },
  {
   "cell_type": "code",
   "execution_count": 13,
   "metadata": {
    "collapsed": true
   },
   "outputs": [],
   "source": [
    "PS2=np.zeros((2*len(step_dict),len(z), n_pts))\n",
    "for i in range(len(PS)):\n",
    "        PS2[i]=(PS[i])*((s8_fid/sigma8[i])**2.)\n",
    "        \n",
    "PS2[4]=(PS_fid[:,:])*(((s8_fid - s8_fid*0.01)/sigma8[4])**2.)\n",
    "PS2[5]=(PS_fid[:,:])*(((s8_fid + s8_fid*0.01)/sigma8[5])**2.)\n",
    "\n",
    "vary[4]=s8_fid - s8_fid*0.01\n",
    "vary[5]=s8_fid + s8_fid*0.01"
   ]
  },
  {
   "cell_type": "markdown",
   "metadata": {},
   "source": [
    "The Fisher matrix including $B_{sss}$ and $B_{ssp}$ is given by\n",
    "\n",
    "\\begin{equation}\n",
    "F_{lm} = \\int dk_1 \\int dk_2 \\int dk_3\\ 4\\pi f_{sky} \\int^{z_{max}}_{z_{min}} dz \\frac{r^2(z)}{H(z)} \\int \\frac{d \\mu_1}{2} \\sum_{\\alpha, \\beta} \\frac{\\partial B_{\\alpha}(z)}{\\partial p_l} \\frac{\\partial B_{\\beta}(z)}{\\partial p_m} \\text{Cov}^{-1}\\left[ B_{\\alpha}, B_{\\beta} \\right],\n",
    "\\end{equation}\n",
    "\n",
    "where $\\alpha, \\beta = sss, pss$ and \n",
    "\n",
    "\\begin{split}\n",
    "\\text{Cov}\\left[ B_{sss}, B_{sss} \\right] &= \\frac{\\pi (2\\pi)^3 P_{ss}(k_1) P_{ss}(k_2) P_{ss}(k_3)}{k_1 k_2 k_3} \\\\\n",
    "\\text{Cov}\\left[ B_{sss}, B_{pss} \\right] &= \\frac{\\pi (2\\pi)^3 P_{sp}(k_1) P_{ss}(k_2) P_{ss}(k_3)}{k_1 k_2 k_3} \\\\\n",
    "\\text{Cov}\\left[ B_{pss}, B_{pss} \\right] &= \\frac{\\pi (2\\pi)^3 P_{pp}(k_1) P_{ss}(k_2) P_{ss}(k_3)}{k_1 k_2 k_3} \\\\\n",
    "\\end{split}"
   ]
  },
  {
   "cell_type": "code",
   "execution_count": 15,
   "metadata": {
    "collapsed": true
   },
   "outputs": [],
   "source": [
    "def B_total(a,b,c, P_a, P_b, P_c, M_a, M_b, M_c, F_nl):\n",
    "    B_G=(2.*F_2(a,b,c)*P_a*P_b + 2.*F_2(b,c,a)*P_b*P_c + 2.*F_2(c,a,b)*P_c*P_a)\n",
    "    B_L=(2.*F_nl*((1./M_a)*(1./M_b)*M_c*P_a*P_b + (1./M_b)*(1./M_c)*M_a*P_b*P_c + (1./M_a)*(1./M_c)*M_b*P_a*P_c))\n",
    "    B_sss=(B_G + B_L)\n",
    "    return B_sss\n",
    "\n",
    "def Derivative(Vary, Bisp, Z_bin, Mu):\n",
    "    dBisp = np.zeros((len(Vary)/2, len(Z_bin), len(Mu)))\n",
    "    for i in range(len(Vary)/2):\n",
    "        dBisp[i,:,:]=(Bisp[2*i+1,:,:]-Bisp[2*i,:,:])/(Vary[2*i+1]-Vary[2*i])\n",
    "    return dBisp\n",
    "\n",
    "def Fisher(K, Mu, P, P_fid, Rz, F_sky, redshift, Hz, Nz_spec, Nz_phot, Vary, Sigma_z, Omg_m, F_nl):\n",
    "    Omg_m2=np.outer(Omg_m, np.ones((len(redshift))))\n",
    "    P_reshaped=(P_fid.reshape(len(redshift), 1, len(K)))*np.ones((len(redshift), len(Mu), len(K)))\n",
    "    N_spec=(Nz_spec.reshape((len(redshift),1)))*np.ones((len(redshift),len(Mu)))\n",
    "    N_phot=(Nz_phot.reshape((len(redshift),1)))*np.ones((len(redshift),len(Mu)))\n",
    "    R_H=((Rz**2.)/Hz).reshape(20,1)\n",
    "\n",
    "    F=np.zeros((len(Vary)/2 +1, len(Vary)/2 +1))\n",
    "    for p in range(len(Vary)/2 +1):\n",
    "        for q in range(p,len(Vary)/2 +1):\n",
    "            integrand3=[]\n",
    "            for i in range(len(K)):\n",
    "                integrand2=[]\n",
    "                k2=[]\n",
    "                for j in range(i,len(K)):\n",
    "                    k2.append(K[j])\n",
    "                    integrand1=[]\n",
    "                    k1=[]\n",
    "                    for l in range(j,len(K)):\n",
    "                        k_lim=min((K[i]+K[j]), max(K))\n",
    "                        if K[l]<=k_lim:\n",
    "                            k1.append(K[l])\n",
    "                            B_tot=np.array(B_total(K[i],K[j],K[l], P[:,:,i], P[:,:,j], P[:,:,l], M(K[i], Transf_norm[:,:,i], D_z[:,:], Omg_m2[:,:]), M(K[j], Transf_norm[:,:,j], D_z[:,:], Omg_m2[:,:]), M(K[l], Transf_norm[:,:,l], D_z[:,:], Omg_m2[:,:]), 0.8))\n",
    "                            B_tot=np.vstack((B_tot, (B_total(K[i],K[j],K[l], P_fid[:,i], P_fid[:,j], P_fid[:,l], M(K[i], Tfid_norm[:,i], D_fid[:], 0.316) , M(K[j], Tfid_norm[:,j], D_fid[:], 0.316), M(K[l], Tfid_norm[:,l], D_fid[:], 0.316), F_nl[0]).reshape((1, len(redshift))))))\n",
    "                            B_tot=np.vstack((B_tot, (B_total(K[i],K[j],K[l], P_fid[:,i], P_fid[:,j], P_fid[:,l], M(K[i], Tfid_norm[:,i], D_fid[:], 0.316) , M(K[j], Tfid_norm[:,j], D_fid[:], 0.316), M(K[l], Tfid_norm[:,l], D_fid[:], 0.316), F_nl[1]).reshape((1, len(redshift))))))\n",
    "                            B_tot=(B_tot.reshape(len(Vary)+2,len(redshift),1)*np.ones((len(Vary)+2,len(redshift),len(Mu))))\n",
    "\n",
    "                            deriv_sss=Derivative(np.concatenate((Vary, F_nl)), B_tot, redshift, Mu)\n",
    "                            deriv_ssp=Derivative(np.concatenate((Vary, F_nl)), ((exp_z(K[i], Mu, Sigma_z, Hz).reshape(1,len(redshift), len(Mu)))*(B_tot)), redshift, Mu)\n",
    "\n",
    "                            Cov=np.zeros((len(redshift),len(Mu),2,2))\n",
    "                            Cov[:,:,0,0] = (8.*np.pi**4.)*((P_reshaped[:,:,i]+(1./N_spec))*(P_reshaped[:,:,j]+(1./N_spec))*(P_reshaped[:,:,l]+(1./N_spec)))/(K[i]*K[j]*K[l])                               \n",
    "                            Cov[:,:,1,1] = (8.*np.pi**4.)*(((P_reshaped[:,:,i]*(exp_z(K[i], Mu, Sigma_z, Hz)**2.))+(1./N_phot))*(P_reshaped[:,:,j]+(1./N_spec))*(P_reshaped[:,:,l]+(1./N_spec)))/(K[i]*K[j]*K[l])\n",
    "                            Cov[:,:,0,1] = (8.*np.pi**4.)*((P_reshaped[:,:,i]*(exp_z(K[i], Mu, Sigma_z, Hz)))*(P_reshaped[:,:,j]+(1./N_spec))*(P_reshaped[:,:,l]+(1./N_spec)))/(K[i]*K[j]*K[l])\n",
    "                            Cov[:,:,1,0] = Cov[:,:,0,1]\n",
    "                            Cov_inv=np.linalg.inv(Cov)\n",
    "                            integrand_z= 2.*np.pi*F_sky*(R_H)*(Cov_inv[:,:,0,0]*deriv_sss[p,:,:]*deriv_sss[q,:,:] + 2.*Cov_inv[:,:,0,1]*deriv_sss[p,:,:]*deriv_ssp[q,:,:] + Cov_inv[:,:,1,1]*deriv_ssp[p,:,:]*deriv_ssp[q,:,:])\n",
    "                            \n",
    "                            integrand_mu = integrate.simps(integrand_z, redshift, axis=0)\n",
    "                            integrand1.append(integrate.simps(-np.array(integrand_mu), Mu, axis=0))\n",
    "                    integrand2.append(integrate.simps(integrand1, k1))\n",
    "                integrand3.append(integrate.simps(integrand2, k2))\n",
    "            F[p][q]=integrate.simps(integrand3, K)\n",
    "            F[q][p]=F[p][q]\n",
    "    return F\n",
    "\n",
    "F_ssp=Fisher(k, mu, PS2, PS_fid, r_z, f_sky, z, H_bar, n_spec, n_phot, vary, sig_z, omg_m, f_nl)"
   ]
  },
  {
   "cell_type": "markdown",
   "metadata": {},
   "source": [
    "### Comparison between spectroscopic only and spectroscopic + photometric"
   ]
  },
  {
   "cell_type": "code",
   "execution_count": 16,
   "metadata": {
    "collapsed": true
   },
   "outputs": [],
   "source": [
    "Fsss=np.zeros((len(vary)/2 +1, len(vary)/2 +1))\n",
    "\n",
    "f=open('Bsss.txt',\"r\")\n",
    "lines=f.readlines()\n",
    "for x in lines:\n",
    "    i=int(x.split(',')[0])\n",
    "    j=int(x.split(',')[1])\n",
    "    Fsss[i,j] = float(x.split(',')[2])\n",
    "    Fsss[j,i] = Fsss[i,j]\n",
    "f.close()\n",
    "\n",
    "M=np.array([[1., 1.,  0., 0., 0., 0.], [-1., 1., 0., 0., 0., 0.], [0., 0., 1., 0., 0., 0.], [0., 0., 0., 1., 0., 0.], [0., 0., 0., 0., 1., 0.], [0., 0., 0., 0., 0., 1.]])\n",
    "Fsss_new=np.dot(M.T,np.dot(Fsss, M))\n",
    "sss_inv=np.linalg.inv(Fsss_new)\n",
    "sss_marg=[[sss_inv[0,0], sss_inv[0,2]], [sss_inv[2,0], sss_inv[2,2]]]\n",
    "\n",
    "Fssp=np.zeros((len(vary)/2 +1, len(vary)/2 +1))\n",
    "f=open('Bssp.txt',\"r\")\n",
    "lines=f.readlines()\n",
    "for x in lines:\n",
    "    i=int(x.split(',')[0])\n",
    "    j=int(x.split(',')[1])\n",
    "    Fssp[i,j] = float(x.split(',')[2])\n",
    "    Fssp[j,i] = Fssp[i,j]\n",
    "f.close()\n",
    "\n",
    "Fssp_new=np.dot(M.T,np.dot(Fssp, M))\n",
    "ssp_inv=np.linalg.inv(Fssp_new)\n",
    "ssp_marg=[[ssp_inv[0,0], ssp_inv[0,2]], [ssp_inv[2,0], ssp_inv[2,2]]]"
   ]
  },
  {
   "cell_type": "code",
   "execution_count": 17,
   "metadata": {
    "scrolled": true
   },
   "outputs": [
    {
     "name": "stdout",
     "output_type": "stream",
     "text": [
      "           Om       Omb        s8        ns         w       f_nl\n",
      "sss  0.004793  0.004036  0.037857  0.076008  0.026073  13.255677\n",
      "ssp  0.004360  0.003671  0.029212  0.060075  0.023726  11.891431\n"
     ]
    }
   ],
   "source": [
    "step_keys[2] = 's8'; step_keys[0] = 'Om'\n",
    "step_keys.append('f_nl')\n",
    "Mp = pd.DataFrame(np.vstack((np.sqrt(np.diag(sss_inv)), np.sqrt(np.diag(ssp_inv)))), index=['sss', 'ssp'], columns=step_keys)\n",
    "print Mp"
   ]
  },
  {
   "cell_type": "code",
   "execution_count": 18,
   "metadata": {},
   "outputs": [
    {
     "data": {
      "image/png": "[encoded data removed]",
      "text/plain": [
       "<matplotlib.figure.Figure at 0x11e6f8e50>"
      ]
     },
     "metadata": {},
     "output_type": "display_data"
    }
   ],
   "source": [
    "from matplotlib.patches import Ellipse\n",
    "import matplotlib\n",
    "\n",
    "plt.rcParams['figure.figsize'] = (8, 6)\n",
    "def ellipse_plot(inv_fisher, mean_x, mean_y, xname, yname, fig, ax, co, label, opacity):\n",
    "    alpha1 = 1.52\n",
    "    alpha2 = 2.48\n",
    "    sigma_x2 = inv_fisher[0][0]\n",
    "    sigma_y2 = inv_fisher[1][1]\n",
    "    sigma_xy = inv_fisher[0][1]\n",
    "    \n",
    "    a2 = (sigma_x2 + sigma_y2)/2. + np.sqrt((sigma_x2 - sigma_y2)**2/4. + sigma_xy**2)\n",
    "    b2 = (sigma_x2 + sigma_y2)/2. - np.sqrt((sigma_x2 - sigma_y2)**2/4. + sigma_xy**2)\n",
    "\n",
    "    tan2theta = 2.*(sigma_xy)/(sigma_x2 - sigma_y2)\n",
    "    ang = 0.5*np.arctan(tan2theta)\n",
    "    \n",
    "    ell = matplotlib.patches.Ellipse(xy = [mean_x, mean_y], height = alpha1*np.sqrt(a2), width = alpha1*np.sqrt(b2), angle = np.degrees(ang), fill=True, color=co, label=label)\n",
    "    ell2 = matplotlib.patches.Ellipse(xy = [mean_x, mean_y], height = alpha2*np.sqrt(a2), width = alpha2*np.sqrt(b2), angle = np.degrees(ang), fill=True, ls='--', color=co)\n",
    "    ell.set_alpha(opacity)\n",
    "    ell2.set_alpha(opacity)\n",
    "    \n",
    "    ax.add_patch(ell)\n",
    "    ax.add_patch(ell2)\n",
    "    ax.autoscale()\n",
    "    ax.set_xlabel(xname, fontsize=17)\n",
    "    ax.set_ylabel(yname, fontsize=17)\n",
    "    ax.legend(loc='best')\n",
    "    \n",
    "mu_m=0.316\n",
    "mu_s8=0.804\n",
    "\n",
    "fig, ax = plt.subplots()\n",
    "\n",
    "ellipse_plot(sss_marg, mu_m, mu_s8, r'$\\Omega_m$', r'$\\sigma_8$', fig, ax, 'C7','Spectroscopic', 0.2)\n",
    "ellipse_plot(ssp_marg, mu_m, mu_s8, r'$\\Omega_m$', r'$\\sigma_8$', fig, ax, 'C4', 'Spectroscopic and Photometric', 0.4)"
   ]
  },
  {
   "cell_type": "markdown",
   "metadata": {},
   "source": [
    "#### Dependence on the number of k bins (squeezed limit)"
   ]
  },
  {
   "cell_type": "code",
   "execution_count": 19,
   "metadata": {
    "collapsed": true
   },
   "outputs": [],
   "source": [
    "scdm_log = np.sqrt(1./loadtxt(\"scdm_log_squeezed.txt\",usecols=1,  comments=\"#\", delimiter=\",\", unpack=False))\n",
    "sfnl_log = np.sqrt(1./np.loadtxt(\"sfnl_log_squeezed.txt\", comments=\"#\", delimiter=\",\", unpack=False))\n",
    "scdm_linear = np.sqrt(1./loadtxt(\"scdm_linear_squeezed.txt\",usecols=1,  comments=\"#\", delimiter=\",\", unpack=False))\n",
    "sfnl_linear = np.sqrt(1./np.loadtxt(\"sfnl_linear_squeezed.txt\", comments=\"#\", delimiter=\",\", unpack=False))"
   ]
  },
  {
   "cell_type": "code",
   "execution_count": 20,
   "metadata": {},
   "outputs": [
    {
     "data": {
      "image/png": "[encoded data removed]",
      "text/plain": [
       "<matplotlib.figure.Figure at 0x121b3dfd0>"
      ]
     },
     "metadata": {},
     "output_type": "display_data"
    }
   ],
   "source": [
    "x=np.arange(50, 850, 50)\n",
    "\n",
    "plt.rcParams['figure.figsize'] = (16, 6)\n",
    "\n",
    "plt.subplot(121)\n",
    "plt.plot(x, scdm_log, 'o', label='Logarithmic bins')\n",
    "plt.plot(x, scdm_linear, 'o', label= 'Linear bins')\n",
    "plt.xlabel('Number of k bins')\n",
    "plt.ylabel(r'$\\sigma_{cdm}$', fontsize=15)\n",
    "\n",
    "\n",
    "plt.subplot(122)\n",
    "plt.plot(x, sfnl_log, 'o', label='Logarithmic bins')\n",
    "plt.plot(x, sfnl_linear, 'o', label='Linear bins')\n",
    "plt.xlabel('Number of k bins')\n",
    "plt.ylabel(r'$\\sigma_{f_{NL}}$', fontsize=15)\n",
    "\n",
    "plt.show()"
   ]
  },
  {
   "cell_type": "markdown",
   "metadata": {
    "collapsed": true
   },
   "source": [
    "#### Dependence on $\\sigma_z$"
   ]
  },
  {
   "cell_type": "markdown",
   "metadata": {},
   "source": [
    "$$ \\sigma = \\alpha \\cdot \\sigma_z $$"
   ]
  },
  {
   "cell_type": "code",
   "execution_count": 21,
   "metadata": {},
   "outputs": [],
   "source": [
    "sz_fnl = 1./np.sqrt(np.loadtxt(\"sfnl_varysz.txt\", usecols=1, delimiter=', ', comments=\"#\", unpack=False))"
   ]
  },
  {
   "cell_type": "code",
   "execution_count": 22,
   "metadata": {},
   "outputs": [
    {
     "data": {
      "image/png": "[encoded data removed]",
      "text/plain": [
       "<matplotlib.figure.Figure at 0x11301fe50>"
      ]
     },
     "metadata": {},
     "output_type": "display_data"
    }
   ],
   "source": [
    "plt.rcParams['figure.figsize'] = (8, 6)\n",
    "a=np.linspace(.01, 100., 24)\n",
    "plt.plot(a, (1./np.sqrt(0.011416869967347747))*np.ones((len(a))), 'C0--', label='Spectroscopic only')\n",
    "plt.plot(a, sz_fnl)\n",
    "plt.xlabel(r'$\\alpha$')\n",
    "plt.ylabel(r'$\\sigma_{fnl}$')\n",
    "plt.legend()\n",
    "plt.show()"
   ]
  },
  {
   "cell_type": "code",
   "execution_count": null,
   "metadata": {
    "collapsed": true
   },
   "outputs": [],
   "source": []
  }
 ],
 "metadata": {
  "kernelspec": {
   "display_name": "Python 2",
   "language": "python",
   "name": "python2"
  },
  "language_info": {
   "codemirror_mode": {
    "name": "ipython",
    "version": 2
   },
   "file_extension": ".py",
   "mimetype": "text/x-python",
   "name": "python",
   "nbconvert_exporter": "python",
   "pygments_lexer": "ipython2",
   "version": "2.7.13"
  }
 },
 "nbformat": 4,
 "nbformat_minor": 2
}
