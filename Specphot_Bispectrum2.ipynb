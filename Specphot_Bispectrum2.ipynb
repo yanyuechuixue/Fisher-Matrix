{
 "cells": [
  {
   "cell_type": "code",
   "execution_count": 1,
   "metadata": {
    "collapsed": true
   },
   "outputs": [],
   "source": [
    "%matplotlib inline\n",
    "import sys, platform, os\n",
    "from matplotlib import pyplot as plt\n",
    "import numpy as np\n",
    "from scipy.interpolate import interp1d\n",
    "sys.path.insert(0,os.path.realpath(os.path.join(os.getcwd(),'..')))\n",
    "import camb\n",
    "from camb import model, initialpower\n",
    "from scipy import integrate\n",
    "from numpy import loadtxt\n",
    "import copy\n",
    "import math\n",
    "\n",
    "plt.rcParams['figure.figsize'] = (8, 6)\n",
    "plt.rcParams.update({'font.size': 11})"
   ]
  },
  {
   "cell_type": "markdown",
   "metadata": {},
   "source": [
    "#### Load redshift bins and galaxy density n(z) for spectroscopic and photometric samples\n",
    "\n",
    "https://arxiv.org/pdf/1308.4164.pdf"
   ]
  },
  {
   "cell_type": "code",
   "execution_count": 2,
   "metadata": {
    "collapsed": true
   },
   "outputs": [],
   "source": [
    "f=open('n_z.txt',\"r\")\n",
    "lines=f.readlines()\n",
    "zspec_tmp=[];nspec_tmp=[]\n",
    "for x in lines:\n",
    "    zspec_tmp.append(float(x.split(None)[0]))\n",
    "    nspec_tmp.append(float(x.split(None)[1]))\n",
    "f.close()\n",
    "\n",
    "f=open('redshifts_phot.txt',\"r\")\n",
    "lines=f.readlines()\n",
    "z_phot=[]; z_min=[]; z_max=[]; nphot_tmp=[]\n",
    "for x in lines:\n",
    "    z_min.append(float(x.split(None)[0]))\n",
    "    z_phot.append(float(x.split(None)[1]))\n",
    "    z_max.append(float(x.split(None)[2]))\n",
    "    nphot_tmp.append(float(x.split(None)[3]))\n",
    "f.close()\n",
    "\n",
    "zspec_tmp=np.array(zspec_tmp)\n",
    "nspec_tmp=np.array(nspec_tmp)*((0.675)**3.)\n",
    "z_phot=np.array(z_phot)\n",
    "nphot_tmp=np.array(nphot_tmp)"
   ]
  },
  {
   "cell_type": "markdown",
   "metadata": {},
   "source": [
    "### Set fiducial cosmology"
   ]
  },
  {
   "cell_type": "code",
   "execution_count": 3,
   "metadata": {},
   "outputs": [
    {
     "name": "stdout",
     "output_type": "stream",
     "text": [
      "Fiducial Parameters: {'Omc': [0.268], 'Omb': [0.048], 'h': [0.675], 'As': [2e-09], 'w': [-1.0], 'ns': [0.965]}\n"
     ]
    }
   ],
   "source": [
    "fid_params={'h':[0.675], 'Omb':[0.048], 'Omc':[0.268], 'ns':[0.965], 'As':[2e-09], 'w':[-1.0]}\n",
    "print 'Fiducial Parameters:', fid_params\n",
    "\n",
    "#List of fiducial parameters:\n",
    "params_f=[p[0] for p in fid_params.itervalues()]\n",
    "\n",
    "n_pts=50\n",
    "f_sky=0.048"
   ]
  },
  {
   "cell_type": "markdown",
   "metadata": {},
   "source": [
    "### Specify parameters to vary and step size"
   ]
  },
  {
   "cell_type": "code",
   "execution_count": 4,
   "metadata": {},
   "outputs": [
    {
     "name": "stdout",
     "output_type": "stream",
     "text": [
      "Parameters to vary and step size: {'Omc': [0.003], 'Omb': [0.002], 'As': [5e-11], 'ns': [0.01], 'w': [0.03]}\n"
     ]
    }
   ],
   "source": [
    "step_dict={'Omb':[0.002], 'Omc':[0.003], 'ns':[0.01], 'As':[5e-11], 'w':[0.03]}\n",
    "#step_dict={'Omc':[0.003], 'w':[0.03]}\n",
    "\n",
    "print 'Parameters to vary and step size:',step_dict"
   ]
  },
  {
   "cell_type": "code",
   "execution_count": 5,
   "metadata": {},
   "outputs": [
    {
     "name": "stdout",
     "output_type": "stream",
     "text": [
      "Cosmological parameters that will be used: [[0.265, 0.268, 0.271], [0.046, 0.048, 0.05], [0.675], [1.95e-09, 2e-09, 2.05e-09], [-1.03, -1.0, -0.97], [0.955, 0.965, 0.975]]\n"
     ]
    }
   ],
   "source": [
    "def list_params(Step_dict, Fid_params):\n",
    "    step_keys=[key for key in Step_dict.iterkeys()]\n",
    "    keys=[p for p in Fid_params.iterkeys()]\n",
    "\n",
    "    Params=copy.deepcopy(Fid_params)\n",
    "\n",
    "    for i in keys:\n",
    "        if i in step_keys:\n",
    "            Params[i].append(Fid_params[i][0]+Step_dict[i][0])\n",
    "            Params[i].append(Fid_params[i][0]-Step_dict[i][0])\n",
    "        Params[i].sort()\n",
    "    return [Params[i] for i in keys], keys, step_keys\n",
    "\n",
    "params_list, keys, step_keys=list_params(step_dict, fid_params)\n",
    "print 'Cosmological parameters that will be used:', params_list"
   ]
  },
  {
   "cell_type": "markdown",
   "metadata": {},
   "source": [
    "### Calculate matter power spectrum for various cosmologies"
   ]
  },
  {
   "cell_type": "code",
   "execution_count": 6,
   "metadata": {},
   "outputs": [
    {
     "name": "stdout",
     "output_type": "stream",
     "text": [
      "Note: redshifts have been re-sorted (earliest first)\n",
      "Parameters: (0,0) [0.265, 0.048, 0.675, 2e-09, -1.0, 0.965]\n",
      "Note: redshifts have been re-sorted (earliest first)\n",
      "Parameters: (0,2) [0.271, 0.048, 0.675, 2e-09, -1.0, 0.965]\n",
      "Note: redshifts have been re-sorted (earliest first)\n",
      "Parameters: (1,0) [0.268, 0.046, 0.675, 2e-09, -1.0, 0.965]\n",
      "Note: redshifts have been re-sorted (earliest first)\n",
      "Parameters: (1,2) [0.268, 0.05, 0.675, 2e-09, -1.0, 0.965]\n",
      "Note: redshifts have been re-sorted (earliest first)\n",
      "Parameters: (3,0) [0.268, 0.048, 0.675, 1.95e-09, -1.0, 0.965]\n",
      "Note: redshifts have been re-sorted (earliest first)\n"
     ]
    },
    {
     "name": "stderr",
     "output_type": "stream",
     "text": [
      "WARNING:root:Currently dark energy parameters are changed globally, not per parameter set\n"
     ]
    },
    {
     "name": "stdout",
     "output_type": "stream",
     "text": [
      "Parameters: (3,2) [0.268, 0.048, 0.675, 2.05e-09, -1.0, 0.965]\n",
      "Note: redshifts have been re-sorted (earliest first)\n"
     ]
    },
    {
     "name": "stderr",
     "output_type": "stream",
     "text": [
      "WARNING:root:Currently dark energy parameters are changed globally, not per parameter set\n"
     ]
    },
    {
     "name": "stdout",
     "output_type": "stream",
     "text": [
      "Parameters: (4,0) [0.268, 0.048, 0.675, 2e-09, -1.03, 0.965]\n",
      "Note: redshifts have been re-sorted (earliest first)\n",
      "Parameters: (4,2) [0.268, 0.048, 0.675, 2e-09, -0.97, 0.965]\n",
      "Note: redshifts have been re-sorted (earliest first)\n",
      "Parameters: (5,0) [0.268, 0.048, 0.675, 2e-09, -1.0, 0.955]\n",
      "Note: redshifts have been re-sorted (earliest first)\n",
      "Parameters: (5,2) [0.268, 0.048, 0.675, 2e-09, -1.0, 0.975]\n"
     ]
    }
   ],
   "source": [
    "def Power_spectrum(param, Z_bin, K_max):\n",
    "    Omc, Omb, h, A_s, w, n_s = param\n",
    "    pars = camb.CAMBparams()\n",
    "    pars.set_cosmology(H0=100.*h, ombh2=Omb*(h**2), omch2=Omc*(h**2.), omk=0)\n",
    "    pars.set_dark_energy(w)\n",
    "    pars.InitPower.set_params(As= A_s, ns=n_s)\n",
    "    pars.set_matter_power(redshifts=Z_bin, kmax=2.0)\n",
    "\n",
    "    pars.NonLinear = model.NonLinear_none\n",
    "    results = camb.get_results(pars)\n",
    "    kh, z, pk = results.get_matter_power_spectrum(minkh=1e-3, maxkh=K_max, npoints = n_pts)\n",
    "    t = results.get_matter_transfer_data()\n",
    "    \n",
    "    qt=t.transfer_data[0, :, 0]\n",
    "    transf=[]\n",
    "    for i in range(len(Z_bin)):\n",
    "        transf_interp=interp1d(qt, t.transfer_data[6, :, i])\n",
    "        transf.append(transf_interp(kh))\n",
    "    \n",
    "    if param==params_f:\n",
    "        res_fid = camb.get_results(pars)\n",
    "        t_fid = res_fid.get_matter_transfer_data()\n",
    "\n",
    "        qt_fid=t_fid.transfer_data[0, :, 0]\n",
    "        transf_fid=[]\n",
    "        for i in range(len(Z_bin)):\n",
    "            interp_fid=interp1d(qt_fid, t_fid.transfer_data[6, :, i])\n",
    "            transf_fid.append(interp_fid(kh)) \n",
    "            \n",
    "        pars.set_matter_power(redshifts=[0.0], kmax=2.0)\n",
    "        pars.NonLinear = model.NonLinear_none\n",
    "        results2 = camb.get_results(pars)\n",
    "        s8=results2.get_sigma8()        \n",
    "        return kh, pk, res_fid, np.array(transf_fid)[::-1,:], s8\n",
    "    \n",
    "    pars.set_matter_power(redshifts=[0.0], kmax=2.0)\n",
    "    pars.NonLinear = model.NonLinear_none\n",
    "    results2 = camb.get_results(pars)\n",
    "    s8=results2.get_sigma8()\n",
    "    return kh, pk, np.array(transf)[::-1,:], s8\n",
    "\n",
    "def calculate_PS(Params_list, Params_f, n_params, print_steps, Z_bin, K_max):\n",
    "    PS=np.zeros((2*n_params,len(Z_bin), n_pts))\n",
    "    transf=np.zeros((2*n_params,len(Z_bin), n_pts))\n",
    "    Omega_m=[]; W=[]; sig8=[]\n",
    "\n",
    "    l=0; vary=[]\n",
    "    for i in range(len(Params_list)):\n",
    "        for j in range(len(Params_list[i])):\n",
    "            if len(Params_list[i])>1:\n",
    "                par=list(Params_f)\n",
    "                par[i]=Params_list[i][j]\n",
    "                if par!=Params_f:\n",
    "                    vary.append(Params_list[i][j])\n",
    "                    k, PS[l], transf[l], S8 =Power_spectrum(par, Z_bin, K_max)\n",
    "                    sig8.append(S8)\n",
    "\n",
    "                    l+=1\n",
    "                    if print_steps:\n",
    "                        print 'Parameters: (%s,%s)'%(i, j), par\n",
    "                    Omega_m.append(par[0]+par[1])\n",
    "                    W.append(par[4])\n",
    "    return k, PS, transf, vary, Omega_m, W, sig8\n",
    "\n",
    "k, PS, Transf, vary, omg_m, w, sigma8=calculate_PS(params_list, params_f, len(step_dict), True, z_phot, 0.2)"
   ]
  },
  {
   "cell_type": "markdown",
   "metadata": {},
   "source": [
    "### Fiducial Case"
   ]
  },
  {
   "cell_type": "code",
   "execution_count": 7,
   "metadata": {},
   "outputs": [
    {
     "name": "stdout",
     "output_type": "stream",
     "text": [
      "Note: redshifts have been re-sorted (earliest first)\n",
      "H(z)= [  71.8840287    82.72594443   96.16201412  111.84406116  129.46283182\n",
      "  148.77136065  169.57947346  191.74129114  215.14363315  239.69710357\n",
      "  265.32967115  291.98214066  319.60496132  348.15595847  377.59870005\n",
      "  407.90130216  439.03554173  470.97618679  503.70048313  537.18775496]\n"
     ]
    }
   ],
   "source": [
    "k, PS_fid, res_fid, Transf_fid, s8_fid=Power_spectrum(params_f, z_phot, 0.2)\n",
    "H_bar = np.array([res_fid.h_of_z(i) for i in z_phot])\n",
    "r_z=np.array([res_fid.comoving_radial_distance(i) for i in z_phot])\n",
    "c=299792.\n",
    "print 'H(z)=', H_bar*c"
   ]
  },
  {
   "cell_type": "markdown",
   "metadata": {},
   "source": [
    "### Normalizing photometric n(z)"
   ]
  },
  {
   "cell_type": "code",
   "execution_count": 8,
   "metadata": {
    "collapsed": true
   },
   "outputs": [],
   "source": [
    "def integ_z(z):\n",
    "    return (((res_fid.comoving_radial_distance(z))**2.)/(res_fid.h_of_z(z)))\n",
    "\n",
    "vol=[]\n",
    "for i in range(len(z_phot)):\n",
    "    integ=integrate.quad(integ_z, z_min[i], z_max[i])\n",
    "    vol.append(4.*np.pi*f_sky*(integ[0]/((0.675)**3.)))\n",
    "    \n",
    "nphot_tmp2=(nphot_tmp/vol)\n",
    "\n",
    "nphot_tmp3=[]\n",
    "for i in range(len(z_phot)):\n",
    "    integ=integrate.quad(integ_z, z_min[i], z_max[i])\n",
    "    nphot_tmp3.append(integ[0]*nphot_tmp2[i])\n",
    "norm =sum(nphot_tmp3)/(45.*((10800./np.pi)**2.))\n",
    "n_phot=np.array(nphot_tmp2)/(norm)"
   ]
  },
  {
   "cell_type": "code",
   "execution_count": 9,
   "metadata": {},
   "outputs": [
    {
     "name": "stdout",
     "output_type": "stream",
     "text": [
      "Total number of photometric galaxies =  320.783026675 10^6\n",
      "Total number of spectroscopic galaxies =  24.8711150276 10^6\n"
     ]
    }
   ],
   "source": [
    "ngal_spec=[]\n",
    "for i in range(len(zspec_tmp)-1):\n",
    "    ngal_spec.append(4.*np.pi*f_sky*(nspec_tmp[i]/((0.675)**3.))*(integrate.quad(integ_z, zspec_tmp[i], zspec_tmp[i+1])[0]))\n",
    "    \n",
    "print 'Total number of photometric galaxies = ', sum(4.*np.pi*f_sky*(np.array(nphot_tmp3)/norm))/(10**6.), '10^6'\n",
    "print 'Total number of spectroscopic galaxies = ', sum(ngal_spec)/(10**6.), '10^6'"
   ]
  },
  {
   "cell_type": "code",
   "execution_count": 10,
   "metadata": {
    "scrolled": false
   },
   "outputs": [
    {
     "data": {
      "image/png": "[encoded data removed]",
      "text/plain": [
       "<matplotlib.figure.Figure at 0x1067a2990>"
      ]
     },
     "metadata": {},
     "output_type": "display_data"
    }
   ],
   "source": [
    "plt.rcParams['figure.figsize'] = (15, 6)\n",
    "\n",
    "plt.subplot(121)\n",
    "plt.plot(z_phot, n_phot,'o')\n",
    "plt.xlabel('Redshift (z)')\n",
    "plt.ylabel('Galaxy number density n(z)')\n",
    "plt.title('Photometric galaxy density')\n",
    "\n",
    "plt.subplot(122)\n",
    "plt.plot(zspec_tmp, nspec_tmp, 'o')\n",
    "plt.xlabel('Redshift (z)')\n",
    "plt.ylabel('Galaxy number density n(z)')\n",
    "plt.title('Spectroscopic galaxy density')\n",
    "\n",
    "plt.show()"
   ]
  },
  {
   "cell_type": "markdown",
   "metadata": {},
   "source": [
    "Setting the spectroscopic bins equal to the photometric bins:"
   ]
  },
  {
   "cell_type": "code",
   "execution_count": 11,
   "metadata": {
    "collapsed": true
   },
   "outputs": [],
   "source": [
    "z_spec=[]; n_spec=[]\n",
    "for i in range(len(z_phot)):\n",
    "    mask=(zspec_tmp>z_min[i])*(zspec_tmp<z_max[i])\n",
    "    z_new=zspec_tmp[mask]\n",
    "    if len(z_new)>0:\n",
    "        mean_z=np.mean(z_new)\n",
    "        z_spec.append(z_phot[min(range(len(z_phot)), key=lambda i: abs(z_phot[i]-mean_z))])\n",
    "        sum_n=sum(nspec_tmp[mask])\n",
    "        n_spec.append(sum_n)\n",
    "        \n",
    "cont=0\n",
    "for i in range(len(z_phot)):\n",
    "    if z_phot[i] not in z_spec and cont==0:\n",
    "        n_spec=[1e-9] + n_spec\n",
    "    if z_phot[i] in z_spec:\n",
    "        cont=1\n",
    "    if z_phot[i] not in z_spec and cont==1:\n",
    "        n_spec=n_spec + [1e-9]"
   ]
  },
  {
   "cell_type": "code",
   "execution_count": 12,
   "metadata": {
    "collapsed": true
   },
   "outputs": [],
   "source": [
    "zspec_min=zspec_tmp-((zspec_tmp[1]-zspec_tmp[0])/2.)\n",
    "zspec_max=zspec_tmp+((zspec_tmp[1]-zspec_tmp[0])/2.)\n",
    "z_spec=[]; n_spec=[]\n",
    "\n",
    "for i in range(len(z_phot)):\n",
    "    mask=(zspec_tmp>z_min[i])*(zspec_tmp<z_max[i])\n",
    "    z_new=zspec_tmp[mask]\n",
    "    if len(z_new)>0:\n",
    "        mean_z=np.mean(z_new)\n",
    "        z_spec.append(z_phot[min(range(len(z_phot)), key=lambda i: abs(z_phot[i]-mean_z))])\n",
    "        vol=[]; n=[]\n",
    "        for j in range(len(z_new)):\n",
    "            ind=list(zspec_tmp).index(z_new[j])\n",
    "            vol.append(integrate.quad(integ_z, zspec_min[ind], zspec_max[ind])[0])\n",
    "            n.append(nspec_tmp[ind]*vol[j])\n",
    "        n_spec.append(sum(n)/sum(vol))\n",
    "        \n",
    "cont=0\n",
    "for i in range(len(z_phot)):\n",
    "    if z_phot[i] not in z_spec and cont==0:\n",
    "        n_spec=[1e-7] + n_spec\n",
    "    if z_phot[i] in z_spec:\n",
    "        cont=1\n",
    "    if z_phot[i] not in z_spec and cont==1:\n",
    "        n_spec=n_spec + [1e-7]"
   ]
  },
  {
   "cell_type": "code",
   "execution_count": 13,
   "metadata": {},
   "outputs": [
    {
     "data": {
      "image/png": "[encoded data removed]",
      "text/plain": [
       "<matplotlib.figure.Figure at 0x1137eb590>"
      ]
     },
     "metadata": {},
     "output_type": "display_data"
    }
   ],
   "source": [
    "plt.rcParams['figure.figsize'] = (8, 6)\n",
    "\n",
    "plt.plot(z_phot, n_phot,'o', label='Photometric')\n",
    "plt.plot(z_phot, n_spec,'o', label='Spectroscopic')\n",
    "plt.yscale('log')\n",
    "plt.legend(loc='best')\n",
    "plt.xlabel('Redshift (z)')\n",
    "plt.ylabel('Galaxy number density n(z)')\n",
    "plt.ylim(10**(-6.), 2.*10**(-2))\n",
    "plt.show()"
   ]
  },
  {
   "cell_type": "markdown",
   "metadata": {},
   "source": [
    "## Photometric and Spectroscopic Bispectrum"
   ]
  },
  {
   "cell_type": "markdown",
   "metadata": {},
   "source": [
    "The bispectrum predicted by tree-level perturbation theory is given by\n",
    "\n",
    "\\begin{equation}\n",
    "B(k_1, k_2, k_3) = 2F_2({\\bf k}_1, {\\bf k}_2) P(k_1) P(k_2) + \\text{cyc.}\n",
    "\\end{equation}\n",
    "where,\n",
    "\n",
    "\\begin{equation}\n",
    "F_2({\\bf k}_1, {\\bf k}_2) = \\frac{5}{7} + \\frac{\\hat{{\\bf k}}_1 \\cdot \\hat{{\\bf k}}_2}{2} \\left( \\frac{k_1}{k_2} + \\frac{k_2}{k_1} \\right) + \\frac{2}{7} \\left(\\hat{{\\bf k}}_1 \\cdot \\hat{{\\bf k}}_2\\right)^2 .\n",
    "\\end{equation}\n",
    "\n",
    "The bispectrum including two objects from the spectroscopic sample and one from the photometric sample is\n",
    "\n",
    "\\begin{equation}\n",
    "B_{pss}(k_1, k_2, k_3) = \\text{e}^{- \\frac{1}{2} k^2_1 \\mu^2_1 \\sigma^2_z/ H^2} B(k_1, k_2, k_3)\n",
    "\\end{equation}"
   ]
  },
  {
   "cell_type": "code",
   "execution_count": 14,
   "metadata": {
    "collapsed": true
   },
   "outputs": [],
   "source": [
    "def F_2(a,b,c):\n",
    "    cos=-(a**2. + b**2. -(c**2.))/(2.*a*b)\n",
    "    return 5./7. + ((a*b*cos)/(2.*a*b))*((a/b) + (b/a)) + (2./7.)*(((a*b*cos)/(a*b)))**2.\n",
    "\n",
    "def exp_z(K, Mu, Sigma_z, H):\n",
    "    return (np.exp(-(((K)**2.)*((Mu)**2.)*((Sigma_z)**2.))/(2.*(H**2.))))\n",
    "\n",
    "def Bispectrum(K1, K2, Mu, Sigma_z):\n",
    "    K3=np.linspace((K1-K2), K1+K2 , 200)\n",
    "    #Q_ssp=np.zeros((len(K3)))\n",
    "    B_ssp=np.zeros((len(K3), len(mu)))\n",
    "    B_sss=np.zeros((len(K3)))\n",
    "\n",
    "    for l in range(len(K3)):\n",
    "        B_sss[l]=(2.*F_2(K1, K2, K3[l])*fid_interp(K1)*fid_interp(K2) \n",
    "                  + 2.*F_2(K2, K3[l], K1)*fid_interp(K2)*fid_interp(K3[l]) \n",
    "                  + 2.*F_2(K3[l], K1, K2)*fid_interp(K3[l])*fid_interp(K1))\n",
    "        for m in range(len(mu)):\n",
    "            B_ssp[l][m]=exp_z(K3[l], Mu[m], Sigma_z, 67.5/c)*(2.*F_2(K1, K2, K3[l])*fid_interp(K1)*fid_interp(K2) \n",
    "                       + 2.*F_2(K2, K3[l], K1)*fid_interp(K2)*fid_interp(K3[l]) \n",
    "                       + 2.*F_2(K3[l], K1, K2)*fid_interp(K3[l])*fid_interp(K1))\n",
    "        #Q_test[l]=B_test[l]/(fid_interp(K1)*fid_interp(K2) + fid_interp(K2)*fid_interp(K3[l]) \n",
    "        #                    + fid_interp(K1)*fid_interp(K3[l]))\n",
    "        \n",
    "    return B_ssp, B_sss"
   ]
  },
  {
   "cell_type": "markdown",
   "metadata": {},
   "source": [
    "#### Bispectrum suppression due to photometric errors"
   ]
  },
  {
   "cell_type": "code",
   "execution_count": 15,
   "metadata": {
    "collapsed": true
   },
   "outputs": [],
   "source": [
    "k0, PS_fid0, _, _, _=Power_spectrum(params_f, [0.0], 0.8)\n",
    "\n",
    "fid_interp = interp1d(k0, PS_fid0, kind='cubic')\n",
    "\n",
    "theta=np.linspace(0,np.pi, 50)\n",
    "mu=np.cos(theta)\n",
    "sig_z=np.array(0.04*(1.+z_phot))\n",
    "\n",
    "Bssp, Bsss=Bispectrum(0.04, 0.039, mu, 0.005)\n",
    "Bssp2, _=Bispectrum(0.04, 0.039, mu, 0.006)"
   ]
  },
  {
   "cell_type": "code",
   "execution_count": 18,
   "metadata": {},
   "outputs": [
    {
     "data": {
      "image/png": "[encoded data removed]",
      "text/plain": [
       "<matplotlib.figure.Figure at 0x1140c0950>"
      ]
     },
     "metadata": {},
     "output_type": "display_data"
    }
   ],
   "source": [
    "def angle(a,b,c):\n",
    "    return math.acos(-(a**2. + b**2. -(c**2.))/(2.*a*b))\n",
    "\n",
    "k3=np.linspace((0.04-0.039), 0.04+0.039 , 200)\n",
    "ang=[angle(0.04,0.039,i)/np.pi for i in k3]\n",
    "plt.plot(ang, Bsss,'--', label=r'$B_{sss}$')\n",
    "plt.plot(ang, Bssp[:,0], label=r'$B_{ssp}$, $\\sigma_z=0.005$')\n",
    "plt.plot(ang, Bssp2[:,0], label=r'$B_{ssp}$, $\\sigma_z=0.006$')\n",
    "plt.xlabel(r'$\\theta / \\pi$')\n",
    "plt.ylabel(r'B($k_1$, $k_2$, $k_3$)')\n",
    "plt.tight_layout()\n",
    "plt.yscale('log')\n",
    "plt.legend(loc='best')\n",
    "#plt.savefig('reduced.pdf')\n",
    "#plt.ylim(10**(7), 10**9)\n",
    "plt.show()"
   ]
  },
  {
   "cell_type": "markdown",
   "metadata": {},
   "source": [
    "## Photometric and Spectroscopic Fisher matrix"
   ]
  },
  {
   "cell_type": "code",
   "execution_count": 19,
   "metadata": {
    "collapsed": true
   },
   "outputs": [],
   "source": [
    "def E(A, omg_m, omg_de, w):\n",
    "    return np.sqrt((omg_m/(A**3.) + omg_de/(A**(3.*(1.+w)))))\n",
    "\n",
    "def growth1(A, omg_m, omg_de, w):\n",
    "    a2=np.linspace(10**(-7), A, 200)\n",
    "    e=np.array([E(i, omg_m, omg_de, w) for i in a2])\n",
    "    return 2.5*omg_m*E(A, omg_m, omg_de, w)*integrate.simps((a2*e)**(-3.), a2)\n",
    "\n",
    "def M(K, T, D, Omg_m):\n",
    "    return -(3./5.)*(((K**2.)*T*D)/(Omg_m*((100./c)**2.)))\n",
    "\n",
    "f_nl=[0.8- 0.8*1., 0.8 +0.8*1.]\n",
    "\n",
    "D_z=np.zeros((len(vary), len(z_phot)))\n",
    "D_fid=[growth1(i, 0.316 , (1.-0.316), -1.) for i in (1./(1.+z_phot))]\n",
    "\n",
    "for i in range(len(vary)):\n",
    "    for j in range(len(z_phot)):\n",
    "        a=1./(1.+z_phot[j])\n",
    "        D_z[i][j]=growth1(a, omg_m[i], (1.-omg_m[i]), w[i])\n",
    "\n",
    "Transf_norm=np.zeros(Transf.shape)\n",
    "Tfid_norm=np.array([Transf_fid[i,:]/Transf_fid[i,0] for i in range(len(z_phot))])\n",
    "\n",
    "for i in range(len(Transf)):\n",
    "    for j in range(len(Transf[i])):\n",
    "        Transf_norm[i][j]=Transf[i,j,:]/Transf[i,j,0]\n",
    "        \n",
    "PS2=np.zeros((2*len(step_dict),len(z_phot), n_pts))\n",
    "for i in range(len(PS)):\n",
    "        PS2[i]=(PS[i])*((s8_fid/sigma8[i])**2.)\n",
    "        \n",
    "PS2[4]=(PS_fid[:,:])*(((s8_fid - s8_fid*0.01)/sigma8[4])**2.)\n",
    "PS2[5]=(PS_fid[:,:])*(((s8_fid + s8_fid*0.01)/sigma8[5])**2.)\n",
    "\n",
    "vary[4]=s8_fid - s8_fid*0.01\n",
    "vary[5]=s8_fid + s8_fid*0.01"
   ]
  },
  {
   "cell_type": "markdown",
   "metadata": {},
   "source": [
    "The Fisher matrix including $B_{sss}$ and $B_{ssp}$ is given by\n",
    "\n",
    "\\begin{equation}\n",
    "F_{lm} = \\int dk_1 \\int dk_2 \\int dk_3\\ 4\\pi f_{sky} \\int^{z_{max}}_{z_{min}} dz \\frac{r^2(z)}{H(z)} \\int \\frac{d \\mu_1}{2} \\sum_{\\alpha, \\beta} \\frac{\\partial B_{\\alpha}(z)}{\\partial p_l} \\frac{\\partial B_{\\beta}(z)}{\\partial p_m} \\text{Cov}\\left[ B_{\\alpha}, B_{\\beta} \\right],\n",
    "\\end{equation}\n",
    "\n",
    "where $\\alpha, \\beta = sss, pss$ and \n",
    "\n",
    "\\begin{split}\n",
    "\\text{Cov}\\left[ B_{sss}, B_{sss} \\right] &= \\frac{k_1 k_2 k_3}{\\pi (2\\pi)^3 P_{ss}(k_1) P_{ss}(k_2) P_{ss}(k_3)} \\\\\n",
    "\\text{Cov}\\left[ B_{sss}, B_{pss} \\right] &= \\frac{k_1 k_2 k_3}{\\pi (2\\pi)^3 P_{sp}(k_1) P_{ss}(k_2) P_{ss}(k_3)} \\\\\n",
    "\\text{Cov}\\left[ B_{pss}, B_{pss} \\right] &= \\frac{k_1 k_2 k_3}{\\pi (2\\pi)^3 P_{pp}(k_1) P_{ss}(k_2) P_{ss}(k_3)} \\\\\n",
    "\\end{split}"
   ]
  },
  {
   "cell_type": "code",
   "execution_count": 19,
   "metadata": {
    "collapsed": true,
    "scrolled": true
   },
   "outputs": [],
   "source": [
    "def B_total(a,b,c, P_a, P_b, P_c, M_a, M_b, M_c, F_nl):\n",
    "    B_G=(2.*F_2(a,b,c)*P_a*P_b + 2.*F_2(b,c,a)*P_b*P_c + 2.*F_2(c,a,b)*P_c*P_a)\n",
    "    B_L=(2.*F_nl*((1./M_a)*(1./M_b)*M_c*P_a*P_b + (1./M_b)*(1./M_c)*M_a*P_b*P_c + (1./M_a)*(1./M_c)*M_b*P_a*P_c))\n",
    "    B_sss=(B_G + B_L)\n",
    "    return B_sss\n",
    "\n",
    "def Derivative(Vary, Bisp, Z_bin):\n",
    "    dBisp = np.zeros((len(Vary)/2, len(Z_bin)))\n",
    "    for i in range(len(Vary)/2):\n",
    "        for j in range(len(Z_bin)):\n",
    "            dBisp[i][j]=(Bisp[2*i+1][j]-Bisp[2*i][j])/(Vary[2*i+1]-Vary[2*i])\n",
    "    return dBisp\n",
    "\n",
    "def Fisher_sp(K, Mu, P, P_fid, Rz, F_sky, redshift, Hz, Nz_spec, Nz_phot, Vary, Sigma_z, which, Omg_m, F_nl):\n",
    "    Omg_m2=np.outer(Omg_m, np.ones((len(redshift))))\n",
    "\n",
    "    F=np.zeros((len(Vary)/2 +1, len(Vary)/2 +1))\n",
    "    for p in range(len(Vary)/2 +1):\n",
    "        for q in range(p,len(Vary)/2 +1):\n",
    "            integrand3=[]\n",
    "            for i in range(len(K)):\n",
    "                integrand2=[]\n",
    "                k2=[]\n",
    "                for j in range(i,len(K)):\n",
    "                    k2.append(K[j])\n",
    "                    integrand1=[]\n",
    "                    k1=[]\n",
    "                    for l in range(j,len(K)):\n",
    "                        k_lim=min((K[i]+K[j]), max(K))\n",
    "                        if K[l]<=k_lim:\n",
    "                            k1.append(K[l])\n",
    "                            integrand_z=[]\n",
    "                            integrand_mu=[]\n",
    "                \n",
    "                            for m in range(len(Mu)):\n",
    "                                B_tot=np.array(B_total(K[i],K[j],K[l], P[:,:,i], P[:,:,j], P[:,:,l], M(K[i], Transf_norm[:,:,i], D_z[:,:], Omg_m2[:,:]), M(K[j], Transf_norm[:,:,j], D_z[:,:], Omg_m2[:,:]), M(K[l], Transf_norm[:,:,l], D_z[:,:], Omg_m2[:,:]), 0.8))\n",
    "                                B_tot=np.vstack((B_tot, (B_total(K[i],K[j],K[l], P_fid[:,i], P_fid[:,j], P_fid[:,l], M(K[i], Tfid_norm[:,i], D_fid[:], 0.316) , M(K[j], Tfid_norm[:,j], D_fid[:], 0.316), M(K[l], Tfid_norm[:,l], D_fid[:], 0.316), F_nl[0]).reshape((1, len(redshift))))))\n",
    "                                B_tot=np.vstack((B_tot, (B_total(K[i],K[j],K[l], P_fid[:,i], P_fid[:,j], P_fid[:,l], M(K[i], Tfid_norm[:,i], D_fid[:], 0.316) , M(K[j], Tfid_norm[:,j], D_fid[:], 0.316), M(K[l], Tfid_norm[:,l], D_fid[:], 0.316), F_nl[1]).reshape((1, len(redshift))))))\n",
    "                                deriv_sss=Derivative(np.concatenate((Vary, F_nl)), B_tot, redshift)\n",
    "                                deriv_ssp=Derivative(np.concatenate((Vary, F_nl)), B_tot*(exp_z(K[i], Mu[m], Sigma_z, Hz)), redshift)\n",
    "                                integ=[]\n",
    "\n",
    "                                if which==1:\n",
    "                                    integ.append(F_sky*((Rz**2.)/Hz)*deriv_ssp[p]*deriv_ssp[q]*((K[i]*K[j]*K[l])/(4.*(np.pi**3.)*((P_fid[:,i]*(exp_z(K[i], Mu[m], Sigma_z, Hz)**2.))+(1./Nz_phot))*(P_fid[:,j]+(1./Nz_spec))*(P_fid[:,l]+(1./Nz_spec)))))\n",
    "                                    integ=np.array(integ).reshape((1,len(redshift)))\n",
    "                                if which==2:\n",
    "                                    integ.append(F_sky*((Rz**2.)/Hz)*deriv_sss[p]*deriv_sss[q]*((K[i]*K[j]*K[l])/(4.*(np.pi**3.)*(P_fid[:,i]+(1./Nz_spec))*(P_fid[:,j]+(1./Nz_spec))*(P_fid[:,l]+(1./Nz_spec)))))\n",
    "                                    integ.append(2.*(F_sky*((Rz**2.)/Hz)*deriv_sss[p]*deriv_ssp[q]*((K[i]*K[j]*K[l])/(4.*(np.pi**3.)*((P_fid[:,i]*(exp_z(K[i], Mu[m], Sigma_z, Hz))))*(P_fid[:,j]+(1./Nz_spec))*(P_fid[:,l]+(1./Nz_spec))))))\n",
    "                                    integ.append(F_sky*((Rz**2.)/Hz)*deriv_ssp[p]*deriv_ssp[q]*((K[i]*K[j]*K[l])/(4.*(np.pi**3.)*((P_fid[:,i]*(exp_z(K[i], Mu[m], Sigma_z, Hz)**2.))+(1./Nz_phot))*(P_fid[:,j]+(1./Nz_spec))*(P_fid[:,l]+(1./Nz_spec)))))\n",
    "                                integrand_z = np.sum(integ, axis=0)\n",
    "                                integrand_mu.append(integrate.simps(integrand_z, redshift))\n",
    "                            integrand1.append(integrate.simps(-np.array(integrand_mu), Mu))\n",
    "                    integrand2.append(integrate.simps(integrand1, k1))\n",
    "                integrand3.append(integrate.simps(integrand2, k2))\n",
    "            F[p][q]=integrate.simps(integrand3, K)\n",
    "            F[q][p]=F[p][q]\n",
    "            print F\n",
    "    return F\n",
    "\n",
    "F_ssp=Fisher_sp(k, mu, PS3, PS_fid, r_z, f_sky, z_phot, H_bar, np.array(n_spec), np.array(n_phot), vary, sig_z, 2, omg_m, f_nl)"
   ]
  },
  {
   "cell_type": "code",
   "execution_count": 41,
   "metadata": {},
   "outputs": [
    {
     "name": "stdout",
     "output_type": "stream",
     "text": [
      "[[  9.27127817e-03              nan              nan   1.10420901e-02\n",
      "               nan              nan]\n",
      " [             nan   2.02510720e-03   3.74402150e-03              nan\n",
      "    5.07427152e-03   7.04961376e-02]\n",
      " [             nan   3.74402150e-03   9.65352906e-03   1.69982070e-02\n",
      "    1.29912448e-02   3.05198012e-01]\n",
      " [  1.10420901e-02              nan   1.69982070e-02   7.35058793e-02\n",
      "               nan   4.54089252e-01]\n",
      " [             nan   5.07427152e-03   1.29912448e-02              nan\n",
      "    2.74125558e-02              nan]\n",
      " [             nan   7.04961376e-02   3.05198012e-01   4.54089252e-01\n",
      "               nan   2.57803755e+01]]\n"
     ]
    },
    {
     "name": "stderr",
     "output_type": "stream",
     "text": [
      "/Users/gsatopolito/anaconda/lib/python2.7/site-packages/ipykernel_launcher.py:1: RuntimeWarning: invalid value encountered in sqrt\n",
      "  \"\"\"Entry point for launching an IPython kernel.\n"
     ]
    }
   ],
   "source": [
    "print np.sqrt(np.linalg.inv(F_ssp))"
   ]
  },
  {
   "cell_type": "code",
   "execution_count": 62,
   "metadata": {},
   "outputs": [
    {
     "name": "stdout",
     "output_type": "stream",
     "text": [
      "[[ 101694.04104943       0.               0.               0.               0.\n",
      "        0.        ]\n",
      " [      0.               0.               0.               0.               0.\n",
      "        0.        ]\n",
      " [      0.               0.               0.               0.               0.\n",
      "        0.        ]\n",
      " [      0.               0.               0.               0.               0.\n",
      "        0.        ]\n",
      " [      0.               0.               0.               0.               0.\n",
      "        0.        ]\n",
      " [      0.               0.               0.               0.               0.\n",
      "        0.        ]]\n",
      "[[ 101694.04104943     480.21200423       0.               0.               0.\n",
      "        0.        ]\n",
      " [    480.21200423       0.               0.               0.               0.\n",
      "        0.        ]\n",
      " [      0.               0.               0.               0.               0.\n",
      "        0.        ]\n",
      " [      0.               0.               0.               0.               0.\n",
      "        0.        ]\n",
      " [      0.               0.               0.               0.               0.\n",
      "        0.        ]\n",
      " [      0.               0.               0.               0.               0.\n",
      "        0.        ]]\n",
      "[[ 101694.04104943     480.21200423   18349.34153669       0.               0.\n",
      "        0.        ]\n",
      " [    480.21200423       0.               0.               0.               0.\n",
      "        0.        ]\n",
      " [  18349.34153669       0.               0.               0.               0.\n",
      "        0.        ]\n",
      " [      0.               0.               0.               0.               0.\n",
      "        0.        ]\n",
      " [      0.               0.               0.               0.               0.\n",
      "        0.        ]\n",
      " [      0.               0.               0.               0.               0.\n",
      "        0.        ]]\n",
      "[[ 101694.04104943     480.21200423   18349.34153669   -8501.02959044\n",
      "        0.               0.        ]\n",
      " [    480.21200423       0.               0.               0.               0.\n",
      "        0.        ]\n",
      " [  18349.34153669       0.               0.               0.               0.\n",
      "        0.        ]\n",
      " [  -8501.02959044       0.               0.               0.               0.\n",
      "        0.        ]\n",
      " [      0.               0.               0.               0.               0.\n",
      "        0.        ]\n",
      " [      0.               0.               0.               0.               0.\n",
      "        0.        ]]\n",
      "[[ 101694.04104943     480.21200423   18349.34153669   -8501.02959044\n",
      "    27295.44228258       0.        ]\n",
      " [    480.21200423       0.               0.               0.               0.\n",
      "        0.        ]\n",
      " [  18349.34153669       0.               0.               0.               0.\n",
      "        0.        ]\n",
      " [  -8501.02959044       0.               0.               0.               0.\n",
      "        0.        ]\n",
      " [  27295.44228258       0.               0.               0.               0.\n",
      "        0.        ]\n",
      " [      0.               0.               0.               0.               0.\n",
      "        0.        ]]\n",
      "[[  1.01694041e+05   4.80212004e+02   1.83493415e+04  -8.50102959e+03\n",
      "    2.72954423e+04   7.92453027e+00]\n",
      " [  4.80212004e+02   0.00000000e+00   0.00000000e+00   0.00000000e+00\n",
      "    0.00000000e+00   0.00000000e+00]\n",
      " [  1.83493415e+04   0.00000000e+00   0.00000000e+00   0.00000000e+00\n",
      "    0.00000000e+00   0.00000000e+00]\n",
      " [ -8.50102959e+03   0.00000000e+00   0.00000000e+00   0.00000000e+00\n",
      "    0.00000000e+00   0.00000000e+00]\n",
      " [  2.72954423e+04   0.00000000e+00   0.00000000e+00   0.00000000e+00\n",
      "    0.00000000e+00   0.00000000e+00]\n",
      " [  7.92453027e+00   0.00000000e+00   0.00000000e+00   0.00000000e+00\n",
      "    0.00000000e+00   0.00000000e+00]]\n",
      "[[  1.01694041e+05   4.80212004e+02   1.83493415e+04  -8.50102959e+03\n",
      "    2.72954423e+04   7.92453027e+00]\n",
      " [  4.80212004e+02   2.57284541e+04   0.00000000e+00   0.00000000e+00\n",
      "    0.00000000e+00   0.00000000e+00]\n",
      " [  1.83493415e+04   0.00000000e+00   0.00000000e+00   0.00000000e+00\n",
      "    0.00000000e+00   0.00000000e+00]\n",
      " [ -8.50102959e+03   0.00000000e+00   0.00000000e+00   0.00000000e+00\n",
      "    0.00000000e+00   0.00000000e+00]\n",
      " [  2.72954423e+04   0.00000000e+00   0.00000000e+00   0.00000000e+00\n",
      "    0.00000000e+00   0.00000000e+00]\n",
      " [  7.92453027e+00   0.00000000e+00   0.00000000e+00   0.00000000e+00\n",
      "    0.00000000e+00   0.00000000e+00]]\n",
      "[[  1.01694041e+05   4.80212004e+02   1.83493415e+04  -8.50102959e+03\n",
      "    2.72954423e+04   7.92453027e+00]\n",
      " [  4.80212004e+02   2.57284541e+04   1.44796242e+03   0.00000000e+00\n",
      "    0.00000000e+00   0.00000000e+00]\n",
      " [  1.83493415e+04   1.44796242e+03   0.00000000e+00   0.00000000e+00\n",
      "    0.00000000e+00   0.00000000e+00]\n",
      " [ -8.50102959e+03   0.00000000e+00   0.00000000e+00   0.00000000e+00\n",
      "    0.00000000e+00   0.00000000e+00]\n",
      " [  2.72954423e+04   0.00000000e+00   0.00000000e+00   0.00000000e+00\n",
      "    0.00000000e+00   0.00000000e+00]\n",
      " [  7.92453027e+00   0.00000000e+00   0.00000000e+00   0.00000000e+00\n",
      "    0.00000000e+00   0.00000000e+00]]\n",
      "[[  1.01694041e+05   4.80212004e+02   1.83493415e+04  -8.50102959e+03\n",
      "    2.72954423e+04   7.92453027e+00]\n",
      " [  4.80212004e+02   2.57284541e+04   1.44796242e+03  -6.79016185e+02\n",
      "    0.00000000e+00   0.00000000e+00]\n",
      " [  1.83493415e+04   1.44796242e+03   0.00000000e+00   0.00000000e+00\n",
      "    0.00000000e+00   0.00000000e+00]\n",
      " [ -8.50102959e+03  -6.79016185e+02   0.00000000e+00   0.00000000e+00\n",
      "    0.00000000e+00   0.00000000e+00]\n",
      " [  2.72954423e+04   0.00000000e+00   0.00000000e+00   0.00000000e+00\n",
      "    0.00000000e+00   0.00000000e+00]\n",
      " [  7.92453027e+00   0.00000000e+00   0.00000000e+00   0.00000000e+00\n",
      "    0.00000000e+00   0.00000000e+00]]\n",
      "[[  1.01694041e+05   4.80212004e+02   1.83493415e+04  -8.50102959e+03\n",
      "    2.72954423e+04   7.92453027e+00]\n",
      " [  4.80212004e+02   2.57284541e+04   1.44796242e+03  -6.79016185e+02\n",
      "   -9.80718450e+02   0.00000000e+00]\n",
      " [  1.83493415e+04   1.44796242e+03   0.00000000e+00   0.00000000e+00\n",
      "    0.00000000e+00   0.00000000e+00]\n",
      " [ -8.50102959e+03  -6.79016185e+02   0.00000000e+00   0.00000000e+00\n",
      "    0.00000000e+00   0.00000000e+00]\n",
      " [  2.72954423e+04  -9.80718450e+02   0.00000000e+00   0.00000000e+00\n",
      "    0.00000000e+00   0.00000000e+00]\n",
      " [  7.92453027e+00   0.00000000e+00   0.00000000e+00   0.00000000e+00\n",
      "    0.00000000e+00   0.00000000e+00]]\n",
      "[[  1.01694041e+05   4.80212004e+02   1.83493415e+04  -8.50102959e+03\n",
      "    2.72954423e+04   7.92453027e+00]\n",
      " [  4.80212004e+02   2.57284541e+04   1.44796242e+03  -6.79016185e+02\n",
      "   -9.80718450e+02  -4.85742024e-01]\n",
      " [  1.83493415e+04   1.44796242e+03   0.00000000e+00   0.00000000e+00\n",
      "    0.00000000e+00   0.00000000e+00]\n",
      " [ -8.50102959e+03  -6.79016185e+02   0.00000000e+00   0.00000000e+00\n",
      "    0.00000000e+00   0.00000000e+00]\n",
      " [  2.72954423e+04  -9.80718450e+02   0.00000000e+00   0.00000000e+00\n",
      "    0.00000000e+00   0.00000000e+00]\n",
      " [  7.92453027e+00  -4.85742024e-01   0.00000000e+00   0.00000000e+00\n",
      "    0.00000000e+00   0.00000000e+00]]\n",
      "[[  1.01694041e+05   4.80212004e+02   1.83493415e+04  -8.50102959e+03\n",
      "    2.72954423e+04   7.92453027e+00]\n",
      " [  4.80212004e+02   2.57284541e+04   1.44796242e+03  -6.79016185e+02\n",
      "   -9.80718450e+02  -4.85742024e-01]\n",
      " [  1.83493415e+04   1.44796242e+03   3.75442840e+03   0.00000000e+00\n",
      "    0.00000000e+00   0.00000000e+00]\n",
      " [ -8.50102959e+03  -6.79016185e+02   0.00000000e+00   0.00000000e+00\n",
      "    0.00000000e+00   0.00000000e+00]\n",
      " [  2.72954423e+04  -9.80718450e+02   0.00000000e+00   0.00000000e+00\n",
      "    0.00000000e+00   0.00000000e+00]\n",
      " [  7.92453027e+00  -4.85742024e-01   0.00000000e+00   0.00000000e+00\n",
      "    0.00000000e+00   0.00000000e+00]]\n",
      "[[  1.01694041e+05   4.80212004e+02   1.83493415e+04  -8.50102959e+03\n",
      "    2.72954423e+04   7.92453027e+00]\n",
      " [  4.80212004e+02   2.57284541e+04   1.44796242e+03  -6.79016185e+02\n",
      "   -9.80718450e+02  -4.85742024e-01]\n",
      " [  1.83493415e+04   1.44796242e+03   3.75442840e+03  -1.73256173e+03\n",
      "    0.00000000e+00   0.00000000e+00]\n",
      " [ -8.50102959e+03  -6.79016185e+02  -1.73256173e+03   0.00000000e+00\n",
      "    0.00000000e+00   0.00000000e+00]\n",
      " [  2.72954423e+04  -9.80718450e+02   0.00000000e+00   0.00000000e+00\n",
      "    0.00000000e+00   0.00000000e+00]\n",
      " [  7.92453027e+00  -4.85742024e-01   0.00000000e+00   0.00000000e+00\n",
      "    0.00000000e+00   0.00000000e+00]]\n",
      "[[  1.01694041e+05   4.80212004e+02   1.83493415e+04  -8.50102959e+03\n",
      "    2.72954423e+04   7.92453027e+00]\n",
      " [  4.80212004e+02   2.57284541e+04   1.44796242e+03  -6.79016185e+02\n",
      "   -9.80718450e+02  -4.85742024e-01]\n",
      " [  1.83493415e+04   1.44796242e+03   3.75442840e+03  -1.73256173e+03\n",
      "    4.79978689e+03   0.00000000e+00]\n",
      " [ -8.50102959e+03  -6.79016185e+02  -1.73256173e+03   0.00000000e+00\n",
      "    0.00000000e+00   0.00000000e+00]\n",
      " [  2.72954423e+04  -9.80718450e+02   4.79978689e+03   0.00000000e+00\n",
      "    0.00000000e+00   0.00000000e+00]\n",
      " [  7.92453027e+00  -4.85742024e-01   0.00000000e+00   0.00000000e+00\n",
      "    0.00000000e+00   0.00000000e+00]]\n"
     ]
    },
    {
     "name": "stdout",
     "output_type": "stream",
     "text": [
      "[[  1.01694041e+05   4.80212004e+02   1.83493415e+04  -8.50102959e+03\n",
      "    2.72954423e+04   7.92453027e+00]\n",
      " [  4.80212004e+02   2.57284541e+04   1.44796242e+03  -6.79016185e+02\n",
      "   -9.80718450e+02  -4.85742024e-01]\n",
      " [  1.83493415e+04   1.44796242e+03   3.75442840e+03  -1.73256173e+03\n",
      "    4.79978689e+03   1.32370467e+00]\n",
      " [ -8.50102959e+03  -6.79016185e+02  -1.73256173e+03   0.00000000e+00\n",
      "    0.00000000e+00   0.00000000e+00]\n",
      " [  2.72954423e+04  -9.80718450e+02   4.79978689e+03   0.00000000e+00\n",
      "    0.00000000e+00   0.00000000e+00]\n",
      " [  7.92453027e+00  -4.85742024e-01   1.32370467e+00   0.00000000e+00\n",
      "    0.00000000e+00   0.00000000e+00]]\n",
      "[[  1.01694041e+05   4.80212004e+02   1.83493415e+04  -8.50102959e+03\n",
      "    2.72954423e+04   7.92453027e+00]\n",
      " [  4.80212004e+02   2.57284541e+04   1.44796242e+03  -6.79016185e+02\n",
      "   -9.80718450e+02  -4.85742024e-01]\n",
      " [  1.83493415e+04   1.44796242e+03   3.75442840e+03  -1.73256173e+03\n",
      "    4.79978689e+03   1.32370467e+00]\n",
      " [ -8.50102959e+03  -6.79016185e+02  -1.73256173e+03   8.10516793e+02\n",
      "    0.00000000e+00   0.00000000e+00]\n",
      " [  2.72954423e+04  -9.80718450e+02   4.79978689e+03   0.00000000e+00\n",
      "    0.00000000e+00   0.00000000e+00]\n",
      " [  7.92453027e+00  -4.85742024e-01   1.32370467e+00   0.00000000e+00\n",
      "    0.00000000e+00   0.00000000e+00]]\n",
      "[[  1.01694041e+05   4.80212004e+02   1.83493415e+04  -8.50102959e+03\n",
      "    2.72954423e+04   7.92453027e+00]\n",
      " [  4.80212004e+02   2.57284541e+04   1.44796242e+03  -6.79016185e+02\n",
      "   -9.80718450e+02  -4.85742024e-01]\n",
      " [  1.83493415e+04   1.44796242e+03   3.75442840e+03  -1.73256173e+03\n",
      "    4.79978689e+03   1.32370467e+00]\n",
      " [ -8.50102959e+03  -6.79016185e+02  -1.73256173e+03   8.10516793e+02\n",
      "   -2.21974464e+03   0.00000000e+00]\n",
      " [  2.72954423e+04  -9.80718450e+02   4.79978689e+03  -2.21974464e+03\n",
      "    0.00000000e+00   0.00000000e+00]\n",
      " [  7.92453027e+00  -4.85742024e-01   1.32370467e+00   0.00000000e+00\n",
      "    0.00000000e+00   0.00000000e+00]]\n",
      "[[  1.01694041e+05   4.80212004e+02   1.83493415e+04  -8.50102959e+03\n",
      "    2.72954423e+04   7.92453027e+00]\n",
      " [  4.80212004e+02   2.57284541e+04   1.44796242e+03  -6.79016185e+02\n",
      "   -9.80718450e+02  -4.85742024e-01]\n",
      " [  1.83493415e+04   1.44796242e+03   3.75442840e+03  -1.73256173e+03\n",
      "    4.79978689e+03   1.32370467e+00]\n",
      " [ -8.50102959e+03  -6.79016185e+02  -1.73256173e+03   8.10516793e+02\n",
      "   -2.21974464e+03  -6.18705386e-01]\n",
      " [  2.72954423e+04  -9.80718450e+02   4.79978689e+03  -2.21974464e+03\n",
      "    0.00000000e+00   0.00000000e+00]\n",
      " [  7.92453027e+00  -4.85742024e-01   1.32370467e+00  -6.18705386e-01\n",
      "    0.00000000e+00   0.00000000e+00]]\n",
      "[[  1.01694041e+05   4.80212004e+02   1.83493415e+04  -8.50102959e+03\n",
      "    2.72954423e+04   7.92453027e+00]\n",
      " [  4.80212004e+02   2.57284541e+04   1.44796242e+03  -6.79016185e+02\n",
      "   -9.80718450e+02  -4.85742024e-01]\n",
      " [  1.83493415e+04   1.44796242e+03   3.75442840e+03  -1.73256173e+03\n",
      "    4.79978689e+03   1.32370467e+00]\n",
      " [ -8.50102959e+03  -6.79016185e+02  -1.73256173e+03   8.10516793e+02\n",
      "   -2.21974464e+03  -6.18705386e-01]\n",
      " [  2.72954423e+04  -9.80718450e+02   4.79978689e+03  -2.21974464e+03\n",
      "    7.46997291e+03   0.00000000e+00]\n",
      " [  7.92453027e+00  -4.85742024e-01   1.32370467e+00  -6.18705386e-01\n",
      "    0.00000000e+00   0.00000000e+00]]\n",
      "[[  1.01694041e+05   4.80212004e+02   1.83493415e+04  -8.50102959e+03\n",
      "    2.72954423e+04   7.92453027e+00]\n",
      " [  4.80212004e+02   2.57284541e+04   1.44796242e+03  -6.79016185e+02\n",
      "   -9.80718450e+02  -4.85742024e-01]\n",
      " [  1.83493415e+04   1.44796242e+03   3.75442840e+03  -1.73256173e+03\n",
      "    4.79978689e+03   1.32370467e+00]\n",
      " [ -8.50102959e+03  -6.79016185e+02  -1.73256173e+03   8.10516793e+02\n",
      "   -2.21974464e+03  -6.18705386e-01]\n",
      " [  2.72954423e+04  -9.80718450e+02   4.79978689e+03  -2.21974464e+03\n",
      "    7.46997291e+03   2.17071737e+00]\n",
      " [  7.92453027e+00  -4.85742024e-01   1.32370467e+00  -6.18705386e-01\n",
      "    2.17071737e+00   0.00000000e+00]]\n",
      "[[  1.01694041e+05   4.80212004e+02   1.83493415e+04  -8.50102959e+03\n",
      "    2.72954423e+04   7.92453027e+00]\n",
      " [  4.80212004e+02   2.57284541e+04   1.44796242e+03  -6.79016185e+02\n",
      "   -9.80718450e+02  -4.85742024e-01]\n",
      " [  1.83493415e+04   1.44796242e+03   3.75442840e+03  -1.73256173e+03\n",
      "    4.79978689e+03   1.32370467e+00]\n",
      " [ -8.50102959e+03  -6.79016185e+02  -1.73256173e+03   8.10516793e+02\n",
      "   -2.21974464e+03  -6.18705386e-01]\n",
      " [  2.72954423e+04  -9.80718450e+02   4.79978689e+03  -2.21974464e+03\n",
      "    7.46997291e+03   2.17071737e+00]\n",
      " [  7.92453027e+00  -4.85742024e-01   1.32370467e+00  -6.18705386e-01\n",
      "    2.17071737e+00   8.53108666e-04]]\n"
     ]
    }
   ],
   "source": [
    "F_ssp2=Fisher_sp(k, mu, PS2, PS_fid, r_z, f_sky, z_phot, H_bar, np.array(n_spec), np.array(n_phot), vary, sig_z, 1, omg_m, f_nl)"
   ]
  },
  {
   "cell_type": "code",
   "execution_count": 63,
   "metadata": {},
   "outputs": [
    {
     "name": "stdout",
     "output_type": "stream",
     "text": [
      "[[  3.53719025e-02              nan              nan   4.26823922e-02\n",
      "               nan              nan]\n",
      " [             nan   7.75358443e-03              nan              nan\n",
      "    2.00320942e-02   1.71543411e-01]\n",
      " [             nan              nan   1.46757738e-01   2.04380677e-01\n",
      "               nan   1.35935544e+00]\n",
      " [  4.26823922e-02              nan   2.04380677e-01   3.08971885e-01\n",
      "               nan   1.43718790e+00]\n",
      " [             nan   2.00320942e-02              nan              nan\n",
      "    1.10912499e-01              nan]\n",
      " [             nan   1.71543411e-01   1.35935544e+00   1.43718790e+00\n",
      "               nan   6.96974161e+01]]\n"
     ]
    },
    {
     "name": "stderr",
     "output_type": "stream",
     "text": [
      "/Users/gsatopolito/anaconda/lib/python2.7/site-packages/ipykernel_launcher.py:1: RuntimeWarning: invalid value encountered in sqrt\n",
      "  \"\"\"Entry point for launching an IPython kernel.\n"
     ]
    }
   ],
   "source": [
    "print np.sqrt(np.linalg.inv(F_ssp2))"
   ]
  },
  {
   "cell_type": "markdown",
   "metadata": {},
   "source": [
    "### Comparison between spectroscopic only and spectroscopic + photometric"
   ]
  },
  {
   "cell_type": "code",
   "execution_count": null,
   "metadata": {
    "collapsed": true
   },
   "outputs": [],
   "source": [
    "from matplotlib.patches import Ellipse\n",
    "import matplotlib\n",
    "\n",
    "plt.rcParams['figure.figsize'] = (8, 6)\n",
    "\n",
    "\n",
    "fig, ax = plt.subplots()\n",
    "def ellipse_plot(inv_fisher, mean_x, mean_y, xname, yname, fig, ax, co):\n",
    "    alpha1 = 1.52\n",
    "    alpha2 = 2.48\n",
    "    sigma_x2 = inv_fisher[0][0]\n",
    "    sigma_y2 = inv_fisher[1][1]\n",
    "    sigma_xy = inv_fisher[0][1]\n",
    "    \n",
    "    a2 = (sigma_x2 + sigma_y2)/2. + np.sqrt((sigma_x2 - sigma_y2)**2/4. + sigma_xy**2)\n",
    "    b2 = (sigma_x2 + sigma_y2)/2. - np.sqrt((sigma_x2 - sigma_y2)**2/4. + sigma_xy**2)\n",
    "\n",
    "    tan2theta = 2.*(sigma_xy)/(sigma_x2 - sigma_y2)\n",
    "    ang = 0.5*np.arctan(tan2theta)\n",
    "    \n",
    "    ell = matplotlib.patches.Ellipse(xy = [mean_x, mean_y], height = alpha1*np.sqrt(a2), width = alpha1*np.sqrt(b2), angle = np.degrees(ang), fill=True, color=co)\n",
    "    ell2 = matplotlib.patches.Ellipse(xy = [mean_x, mean_y], height = alpha2*np.sqrt(a2), width = alpha2*np.sqrt(b2), angle = np.degrees(ang), fill=True, ls='--', color=co)\n",
    "    ell.set_alpha(0.2)\n",
    "    ell2.set_alpha(0.2)\n",
    "    \n",
    "    ax.add_patch(ell)\n",
    "    ax.add_patch(ell2)\n",
    "    ax.autoscale()\n",
    "    ax.set_xlabel(xname, fontsize=17)\n",
    "    ax.set_ylabel(yname, fontsize=17)\n",
    "    \n",
    "mu_m=0.316\n",
    "mu_s8=0.804\n",
    "\n",
    "teste=np.linalg.inv(f_new)\n",
    "teste2=[[teste[1,1], teste[1,2]], [teste[2,1], teste[2,2]]]\n",
    "\n",
    "ellipse_plot(teste2, mu_m, mu_s8, r'$\\Omega_m$', r'$\\sigma_8$', fig, ax, 'C0')\n",
    "#plt.ylim(0.795, 0.8125)\n",
    "#plt.savefig('ellipse_bis.pdf', dpi=200, format='pdf')"
   ]
  },
  {
   "cell_type": "markdown",
   "metadata": {},
   "source": [
    "#### Dependence on the number of k bins"
   ]
  },
  {
   "cell_type": "code",
   "execution_count": 20,
   "metadata": {
    "collapsed": true
   },
   "outputs": [],
   "source": [
    "sigma_cdm = loadtxt(\"sigma_cdm.txt\", comments=\"#\", delimiter=\",\", unpack=False)\n",
    "sigma_fnl = loadtxt(\"sigma_fnl.txt\", comments=\"#\", delimiter=\",\", unpack=False)"
   ]
  },
  {
   "cell_type": "code",
   "execution_count": 25,
   "metadata": {
    "scrolled": false
   },
   "outputs": [
    {
     "data": {
      "image/png": "[encoded data removed]",
      "text/plain": [
       "<matplotlib.figure.Figure at 0x114496350>"
      ]
     },
     "metadata": {},
     "output_type": "display_data"
    }
   ],
   "source": [
    "x=np.arange(10,400,20)\n",
    "plt.rcParams['figure.figsize'] = (16, 6)\n",
    "\n",
    "plt.subplot(121)\n",
    "plt.plot(x,sigma_cdm,'o')\n",
    "plt.ylim(0.0175, 0.03)\n",
    "plt.xlabel('Number of k bins')\n",
    "plt.ylabel(r'$\\sigma_{cdm}$')\n",
    "\n",
    "plt.subplot(122)\n",
    "plt.plot(x,sigma_fnl,'o')\n",
    "plt.xlabel('Number of k bins')\n",
    "plt.ylabel(r'$\\sigma_{f_NL}$')\n",
    "\n",
    "plt.show()"
   ]
  },
  {
   "cell_type": "code",
   "execution_count": 28,
   "metadata": {},
   "outputs": [
    {
     "name": "stdout",
     "output_type": "stream",
     "text": [
      "sigma_cdm= [(10, 0.20458435541848971), (30, 0.028645857196153302), (50, 0.023109750920460349), (70, 0.021293770030038784), (90, 0.02058566081771572), (110, 0.020526181395437566), (130, 0.020366400998110414), (150, 0.020022346468808381), (170, 0.01982239609687363), (190, 0.019614987900348119), (210, 0.019626252486195209), (230, 0.019449138630927575), (250, 0.019355959987379587), (270, 0.019292938407720651), (290, 0.019251298323640503), (310, 0.019202286032734786), (330, 0.019139647118453881), (350, 0.01909485677358044), (370, 0.019085236595297709), (390, 0.019041744349787768)]\n",
      "sigma_fnl= [(10, 158.45191059849483), (30, 78.887054001255521), (50, 55.423686651571479), (70, 48.666712376485357), (90, 43.037678217467118), (110, 39.553195105510397), (130, 37.001419722853377), (150, 35.189320853255659), (170, 34.092686628579514), (190, 32.788758520977993), (210, 32.145467401951485), (230, 31.395758456007659), (250, 30.773839044643118), (270, 30.301989248737133), (290, 29.828723952786326), (310, 29.460275215952969), (330, 29.116533955042822), (350, 28.763338480973186), (370, 28.495494723628962), (390, 28.295793987738975)]\n"
     ]
    }
   ],
   "source": [
    "print 'sigma_cdm=', zip(x, sigma_cdm)\n",
    "print 'sigma_fnl=', zip(x, sigma_fnl)"
   ]
  },
  {
   "cell_type": "code",
   "execution_count": null,
   "metadata": {
    "collapsed": true
   },
   "outputs": [],
   "source": []
  }
 ],
 "metadata": {
  "kernelspec": {
   "display_name": "Python 2",
   "language": "python",
   "name": "python2"
  },
  "language_info": {
   "codemirror_mode": {
    "name": "ipython",
    "version": 2
   },
   "file_extension": ".py",
   "mimetype": "text/x-python",
   "name": "python",
   "nbconvert_exporter": "python",
   "pygments_lexer": "ipython2",
   "version": "2.7.13"
  }
 },
 "nbformat": 4,
 "nbformat_minor": 2
}
